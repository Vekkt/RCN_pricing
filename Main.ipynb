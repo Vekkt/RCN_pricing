{
 "cells": [
  {
   "cell_type": "code",
   "execution_count": 7,
   "metadata": {
    "collapsed": true
   },
   "outputs": [],
   "source": [
    "import numpy as np\n",
    "from binomial import Binomial\n",
    "from calibration import calibration\n",
    "from rcn import rcn\n",
    "import statsmodels.formula.api as smf\n",
    "from scipy.optimize import minimize"
   ]
  },
  {
   "cell_type": "code",
   "execution_count": 2,
   "outputs": [
    {
     "name": "stdout",
     "output_type": "stream",
     "text": [
      "Interest rate : -0.0078\n",
      "Dividend yield : 0.0274\n",
      "Minimum found!\n",
      "Function value : 39229.7704\n",
      "Up : 1.0718027050\n",
      "Down : 0.9355896666\n"
     ]
    }
   ],
   "source": [
    "\"\"\"Run callibration file and return the interest rate, div yield, u and d\"\"\"\n",
    "r, y, u, d = calibration()"
   ],
   "metadata": {
    "collapsed": false,
    "pycharm": {
     "name": "#%%\n"
    }
   }
  },
  {
   "cell_type": "code",
   "execution_count": 3,
   "outputs": [],
   "source": [
    "#Q1)\n",
    "dt = 1/12\n",
    "i0 = 11118\n",
    "c = 0.1"
   ],
   "metadata": {
    "collapsed": false,
    "pycharm": {
     "name": "#%%%\n"
    }
   }
  },
  {
   "cell_type": "code",
   "execution_count": 4,
   "outputs": [
    {
     "name": "stdout",
     "output_type": "stream",
     "text": [
      "Price of simple RCN 1.9490\n",
      "Price of barrier RCN 1.9827\n"
     ]
    }
   ],
   "source": [
    "note  = rcn(r, dt, i0, y, u, d)\n",
    "RCN = note.price_rcn(alpha=1, c=c)\n",
    "BRCN = note.price_brcn(alpha=1, beta=0.8, c=c)\n",
    "print('Price of simple RCN {:.4f}\\nPrice of barrier RCN {:.4f}'.format(RCN, BRCN))"
   ],
   "metadata": {
    "collapsed": false,
    "pycharm": {
     "name": "#%%\n"
    }
   }
  },
  {
   "cell_type": "code",
   "execution_count": 38,
   "outputs": [
    {
     "name": "stdout",
     "output_type": "stream",
     "text": [
      "Minimum found!\n",
      "Par coupon rate for RCN=2.13%\n",
      "Minimum found!\n",
      "Par coupon rate for BRCN=1.84%\n"
     ]
    }
   ],
   "source": [
    "def f(c, *alpha):\n",
    "    al = alpha\n",
    "    price  = note.price_rcn(alpha=al, c=c)\n",
    "    return (1 - price)**2\n",
    "\n",
    "def g(c, *alpha):\n",
    "    al, bt = alpha\n",
    "    price  = note.price_brcn(alpha=al, beta=bt, c=c)\n",
    "    return (1 - price)**2\n",
    "\n",
    "#cons = ({'type': 'ineq', 'fun': lambda x: 0 <= x <= 1})\n",
    "\n",
    "alpha = 1\n",
    "res = minimize(f, 0, args= alpha, method='COBYLA')\n",
    "if res.success:\n",
    "    print('Minimum found!')\n",
    "    c = res.x\n",
    "    print('Par coupon rate for RCN={:.2%}'.format(c))\n",
    "\n",
    "beta= 0.8\n",
    "res = minimize(g, 0, args=(alpha, beta), method='COBYLA')\n",
    "if res.success:\n",
    "    print('Minimum found!')\n",
    "    c = res.x\n",
    "    print('Par coupon rate for BRCN={:.2%}'.format(c))"
   ],
   "metadata": {
    "collapsed": false,
    "pycharm": {
     "name": "#%%\n"
    }
   }
  },
  {
   "cell_type": "code",
   "execution_count": null,
   "outputs": [],
   "source": [
    "alpha = np.array([0.5, 0.75, 1])\n",
    "beta = [b*alpha for b in []]\n"
   ],
   "metadata": {
    "collapsed": false,
    "pycharm": {
     "name": "#%%\n"
    }
   }
  }
 ],
 "metadata": {
  "kernelspec": {
   "display_name": "Python 3",
   "language": "python",
   "name": "python3"
  },
  "language_info": {
   "codemirror_mode": {
    "name": "ipython",
    "version": 2
   },
   "file_extension": ".py",
   "mimetype": "text/x-python",
   "name": "python",
   "nbconvert_exporter": "python",
   "pygments_lexer": "ipython2",
   "version": "2.7.6"
  }
 },
 "nbformat": 4,
 "nbformat_minor": 0
}