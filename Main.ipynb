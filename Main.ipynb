{
 "cells": [
  {
   "cell_type": "code",
   "execution_count": 1,
   "metadata": {
    "collapsed": true
   },
   "outputs": [],
   "source": [
    "import numpy as np\n",
    "from binomial import Binomial\n",
    "from calibration import calibration\n",
    "from rcn import rcn\n",
    "import statsmodels.formula.api as smf\n",
    "from scipy.optimize import minimize\n",
    "import matplotlib.pyplot as plt"
   ]
  },
  {
   "cell_type": "code",
   "execution_count": 2,
   "outputs": [
    {
     "name": "stdout",
     "output_type": "stream",
     "text": [
      "Interest rate  -0.0078\n",
      "Dividend yield 0.0278\n",
      "------------------------------\n",
      "Minimum found!\n",
      "Func value     0.2349\n",
      "Up             1.0826\n",
      "Down           0.9685\n",
      "------------------------------\n",
      "               simc      Call         simp       Put\n",
      "Strike                                              \n",
      "12000    381.425584   381.525  1662.278436  1662.321\n",
      "11800    420.498768   420.599  1499.785171  1499.822\n",
      "11600    493.250207   493.332  1370.970162  1370.990\n",
      "11400    571.298153   571.380  1247.451659  1247.470\n",
      "11200    649.346099   649.428  1123.933157  1123.951\n",
      "11000    727.394045   727.476  1000.414655  1000.440\n",
      "10800    805.441991   805.524   876.896152   876.917\n",
      "10600    883.489937   883.572   753.377650   753.399\n",
      "10400    991.348798   991.344   659.670062   659.605\n",
      "10200   1114.867300  1114.862   581.622116   581.557\n",
      "10000   1238.385803  1238.381   503.574170   503.509\n",
      "9800    1361.904305  1361.900   425.526223   425.461\n",
      "9600    1485.422808  1485.422   347.478277   347.413\n",
      "9400    1612.914183  1612.790   273.403204   273.219\n",
      "9200    1775.407448  1775.280   234.330020   234.146\n",
      "9000    1937.900712  1937.781   195.256836   195.073\n"
     ]
    },
    {
     "data": {
      "text/plain": "<Figure size 432x288 with 1 Axes>",
      "image/png": "[encoded data removed]"
     },
     "metadata": {
      "needs_background": "light"
     },
     "output_type": "display_data"
    }
   ],
   "source": [
    "\"\"\"Run callibration file and return the interest rate, div yield, u and d\"\"\"\n",
    "r, y, u, d = calibration()"
   ],
   "metadata": {
    "collapsed": false,
    "pycharm": {
     "name": "#%%\n"
    }
   }
  },
  {
   "cell_type": "code",
   "execution_count": 3,
   "outputs": [],
   "source": [
    "#Q1)\n",
    "dt = 1/12\n",
    "i0 = 11118\n",
    "c = 0.1"
   ],
   "metadata": {
    "collapsed": false,
    "pycharm": {
     "name": "#%%%\n"
    }
   }
  },
  {
   "cell_type": "code",
   "execution_count": 4,
   "outputs": [
    {
     "name": "stdout",
     "output_type": "stream",
     "text": [
      "Price of simple RCN 0.8114\n",
      "Price of barrier RCN 0.8454\n"
     ]
    }
   ],
   "source": [
    "note  = rcn(r, dt, i0, y, u, d, c, T=12, q=None)\n",
    "RCN = note.price_rcn(alpha=1, c=c)\n",
    "BRCN = note.price_brcn(alpha=1, beta=0.8, c=c)\n",
    "print('Price of simple RCN {:.4f}\\nPrice of barrier RCN {:.4f}'.format(RCN, BRCN))"
   ],
   "metadata": {
    "collapsed": false,
    "pycharm": {
     "name": "#%%\n"
    }
   }
  },
  {
   "cell_type": "code",
   "execution_count": 5,
   "outputs": [
    {
     "name": "stdout",
     "output_type": "stream",
     "text": [
      "Minimum found!\n",
      "Par coupon rate for RCN c=28.79%\n",
      "Minimum found!\n",
      "Par coupon rate for BRCN c=25.41%\n"
     ]
    }
   ],
   "source": [
    "def f(c, *arg):\n",
    "    al, _ = arg\n",
    "    price  = note.price_rcn(alpha=al, c=c)\n",
    "    return (1 - price)**2\n",
    "\n",
    "def g(c, *arg):\n",
    "    al, bt = arg\n",
    "    #print(str(eval(str(note.price_) + type)))\n",
    "    price  = note.price_brcn(alpha=al, beta=beta, c=c)\n",
    "    return (1 - price)**2\n",
    "\n",
    "alpha = 1\n",
    "beta= 0.8\n",
    "\n",
    "for fun in [f, g]:\n",
    "    res = minimize(fun, 0, args=(alpha, beta), method='COBYLA')\n",
    "    if res.success:\n",
    "        print('Minimum found!')\n",
    "        c = res.x\n",
    "        if fun == f:\n",
    "            type = 'RCN'\n",
    "        elif fun==g:\n",
    "            type = 'BRCN'\n",
    "        print('Par coupon rate for '+str(type)+' c={:.2%}'.format(c))"
   ],
   "metadata": {
    "collapsed": false,
    "pycharm": {
     "name": "#%%\n"
    }
   }
  },
  {
   "cell_type": "code",
   "execution_count": 8,
   "outputs": [
    {
     "ename": "ValueError",
     "evalue": "\n\\alph   a=0.2\n^\nUnknown symbol: \\alph, found '\\'  (at char 0), (line:1, col:1)",
     "output_type": "error",
     "traceback": [
      "\u001B[1;31m---------------------------------------------------------------------------\u001B[0m",
      "\u001B[1;31mParseFatalException\u001B[0m                       Traceback (most recent call last)",
      "\u001B[1;32mc:\\users\\luka\\appdata\\local\\programs\\python\\python39\\lib\\site-packages\\matplotlib\\mathtext.py\u001B[0m in \u001B[0;36mparse\u001B[1;34m(self, s, fonts_object, fontsize, dpi)\u001B[0m\n\u001B[0;32m   2608\u001B[0m         \u001B[1;32mtry\u001B[0m\u001B[1;33m:\u001B[0m\u001B[1;33m\u001B[0m\u001B[1;33m\u001B[0m\u001B[0m\n\u001B[1;32m-> 2609\u001B[1;33m             \u001B[0mresult\u001B[0m \u001B[1;33m=\u001B[0m \u001B[0mself\u001B[0m\u001B[1;33m.\u001B[0m\u001B[0m_expression\u001B[0m\u001B[1;33m.\u001B[0m\u001B[0mparseString\u001B[0m\u001B[1;33m(\u001B[0m\u001B[0ms\u001B[0m\u001B[1;33m)\u001B[0m\u001B[1;33m\u001B[0m\u001B[1;33m\u001B[0m\u001B[0m\n\u001B[0m\u001B[0;32m   2610\u001B[0m         \u001B[1;32mexcept\u001B[0m \u001B[0mParseBaseException\u001B[0m \u001B[1;32mas\u001B[0m \u001B[0merr\u001B[0m\u001B[1;33m:\u001B[0m\u001B[1;33m\u001B[0m\u001B[1;33m\u001B[0m\u001B[0m\n",
      "\u001B[1;32mc:\\users\\luka\\appdata\\local\\programs\\python\\python39\\lib\\site-packages\\pyparsing.py\u001B[0m in \u001B[0;36mparseString\u001B[1;34m(self, instring, parseAll)\u001B[0m\n\u001B[0;32m   1954\u001B[0m                     \u001B[0mexc\u001B[0m\u001B[1;33m.\u001B[0m\u001B[0m__traceback__\u001B[0m \u001B[1;33m=\u001B[0m \u001B[0mself\u001B[0m\u001B[1;33m.\u001B[0m\u001B[0m_trim_traceback\u001B[0m\u001B[1;33m(\u001B[0m\u001B[0mexc\u001B[0m\u001B[1;33m.\u001B[0m\u001B[0m__traceback__\u001B[0m\u001B[1;33m)\u001B[0m\u001B[1;33m\u001B[0m\u001B[1;33m\u001B[0m\u001B[0m\n\u001B[1;32m-> 1955\u001B[1;33m                 \u001B[1;32mraise\u001B[0m \u001B[0mexc\u001B[0m\u001B[1;33m\u001B[0m\u001B[1;33m\u001B[0m\u001B[0m\n\u001B[0m\u001B[0;32m   1956\u001B[0m         \u001B[1;32melse\u001B[0m\u001B[1;33m:\u001B[0m\u001B[1;33m\u001B[0m\u001B[1;33m\u001B[0m\u001B[0m\n",
      "\u001B[1;32mc:\\users\\luka\\appdata\\local\\programs\\python\\python39\\lib\\site-packages\\matplotlib\\mathtext.py\u001B[0m in \u001B[0;36munknown_symbol\u001B[1;34m(self, s, loc, toks)\u001B[0m\n\u001B[0;32m   2766\u001B[0m         \u001B[0mc\u001B[0m \u001B[1;33m=\u001B[0m \u001B[0mtoks\u001B[0m\u001B[1;33m[\u001B[0m\u001B[1;36m0\u001B[0m\u001B[1;33m]\u001B[0m\u001B[1;33m\u001B[0m\u001B[1;33m\u001B[0m\u001B[0m\n\u001B[1;32m-> 2767\u001B[1;33m         \u001B[1;32mraise\u001B[0m \u001B[0mParseFatalException\u001B[0m\u001B[1;33m(\u001B[0m\u001B[0ms\u001B[0m\u001B[1;33m,\u001B[0m \u001B[0mloc\u001B[0m\u001B[1;33m,\u001B[0m \u001B[1;34m\"Unknown symbol: %s\"\u001B[0m \u001B[1;33m%\u001B[0m \u001B[0mc\u001B[0m\u001B[1;33m)\u001B[0m\u001B[1;33m\u001B[0m\u001B[1;33m\u001B[0m\u001B[0m\n\u001B[0m\u001B[0;32m   2768\u001B[0m \u001B[1;33m\u001B[0m\u001B[0m\n",
      "\u001B[1;31mParseFatalException\u001B[0m: Unknown symbol: \\alph, found '\\'  (at char 0), (line:1, col:1)",
      "\nThe above exception was the direct cause of the following exception:\n",
      "\u001B[1;31mValueError\u001B[0m                                Traceback (most recent call last)",
      "\u001B[1;32mc:\\users\\luka\\appdata\\local\\programs\\python\\python39\\lib\\site-packages\\IPython\\core\\formatters.py\u001B[0m in \u001B[0;36m__call__\u001B[1;34m(self, obj)\u001B[0m\n\u001B[0;32m    339\u001B[0m                 \u001B[1;32mpass\u001B[0m\u001B[1;33m\u001B[0m\u001B[1;33m\u001B[0m\u001B[0m\n\u001B[0;32m    340\u001B[0m             \u001B[1;32melse\u001B[0m\u001B[1;33m:\u001B[0m\u001B[1;33m\u001B[0m\u001B[1;33m\u001B[0m\u001B[0m\n\u001B[1;32m--> 341\u001B[1;33m                 \u001B[1;32mreturn\u001B[0m \u001B[0mprinter\u001B[0m\u001B[1;33m(\u001B[0m\u001B[0mobj\u001B[0m\u001B[1;33m)\u001B[0m\u001B[1;33m\u001B[0m\u001B[1;33m\u001B[0m\u001B[0m\n\u001B[0m\u001B[0;32m    342\u001B[0m             \u001B[1;31m# Finally look for special method names\u001B[0m\u001B[1;33m\u001B[0m\u001B[1;33m\u001B[0m\u001B[1;33m\u001B[0m\u001B[0m\n\u001B[0;32m    343\u001B[0m             \u001B[0mmethod\u001B[0m \u001B[1;33m=\u001B[0m \u001B[0mget_real_method\u001B[0m\u001B[1;33m(\u001B[0m\u001B[0mobj\u001B[0m\u001B[1;33m,\u001B[0m \u001B[0mself\u001B[0m\u001B[1;33m.\u001B[0m\u001B[0mprint_method\u001B[0m\u001B[1;33m)\u001B[0m\u001B[1;33m\u001B[0m\u001B[1;33m\u001B[0m\u001B[0m\n",
      "\u001B[1;32mc:\\users\\luka\\appdata\\local\\programs\\python\\python39\\lib\\site-packages\\IPython\\core\\pylabtools.py\u001B[0m in \u001B[0;36m<lambda>\u001B[1;34m(fig)\u001B[0m\n\u001B[0;32m    246\u001B[0m \u001B[1;33m\u001B[0m\u001B[0m\n\u001B[0;32m    247\u001B[0m     \u001B[1;32mif\u001B[0m \u001B[1;34m'png'\u001B[0m \u001B[1;32min\u001B[0m \u001B[0mformats\u001B[0m\u001B[1;33m:\u001B[0m\u001B[1;33m\u001B[0m\u001B[1;33m\u001B[0m\u001B[0m\n\u001B[1;32m--> 248\u001B[1;33m         \u001B[0mpng_formatter\u001B[0m\u001B[1;33m.\u001B[0m\u001B[0mfor_type\u001B[0m\u001B[1;33m(\u001B[0m\u001B[0mFigure\u001B[0m\u001B[1;33m,\u001B[0m \u001B[1;32mlambda\u001B[0m \u001B[0mfig\u001B[0m\u001B[1;33m:\u001B[0m \u001B[0mprint_figure\u001B[0m\u001B[1;33m(\u001B[0m\u001B[0mfig\u001B[0m\u001B[1;33m,\u001B[0m \u001B[1;34m'png'\u001B[0m\u001B[1;33m,\u001B[0m \u001B[1;33m**\u001B[0m\u001B[0mkwargs\u001B[0m\u001B[1;33m)\u001B[0m\u001B[1;33m)\u001B[0m\u001B[1;33m\u001B[0m\u001B[1;33m\u001B[0m\u001B[0m\n\u001B[0m\u001B[0;32m    249\u001B[0m     \u001B[1;32mif\u001B[0m \u001B[1;34m'retina'\u001B[0m \u001B[1;32min\u001B[0m \u001B[0mformats\u001B[0m \u001B[1;32mor\u001B[0m \u001B[1;34m'png2x'\u001B[0m \u001B[1;32min\u001B[0m \u001B[0mformats\u001B[0m\u001B[1;33m:\u001B[0m\u001B[1;33m\u001B[0m\u001B[1;33m\u001B[0m\u001B[0m\n\u001B[0;32m    250\u001B[0m         \u001B[0mpng_formatter\u001B[0m\u001B[1;33m.\u001B[0m\u001B[0mfor_type\u001B[0m\u001B[1;33m(\u001B[0m\u001B[0mFigure\u001B[0m\u001B[1;33m,\u001B[0m \u001B[1;32mlambda\u001B[0m \u001B[0mfig\u001B[0m\u001B[1;33m:\u001B[0m \u001B[0mretina_figure\u001B[0m\u001B[1;33m(\u001B[0m\u001B[0mfig\u001B[0m\u001B[1;33m,\u001B[0m \u001B[1;33m**\u001B[0m\u001B[0mkwargs\u001B[0m\u001B[1;33m)\u001B[0m\u001B[1;33m)\u001B[0m\u001B[1;33m\u001B[0m\u001B[1;33m\u001B[0m\u001B[0m\n",
      "\u001B[1;32mc:\\users\\luka\\appdata\\local\\programs\\python\\python39\\lib\\site-packages\\IPython\\core\\pylabtools.py\u001B[0m in \u001B[0;36mprint_figure\u001B[1;34m(fig, fmt, bbox_inches, **kwargs)\u001B[0m\n\u001B[0;32m    130\u001B[0m         \u001B[0mFigureCanvasBase\u001B[0m\u001B[1;33m(\u001B[0m\u001B[0mfig\u001B[0m\u001B[1;33m)\u001B[0m\u001B[1;33m\u001B[0m\u001B[1;33m\u001B[0m\u001B[0m\n\u001B[0;32m    131\u001B[0m \u001B[1;33m\u001B[0m\u001B[0m\n\u001B[1;32m--> 132\u001B[1;33m     \u001B[0mfig\u001B[0m\u001B[1;33m.\u001B[0m\u001B[0mcanvas\u001B[0m\u001B[1;33m.\u001B[0m\u001B[0mprint_figure\u001B[0m\u001B[1;33m(\u001B[0m\u001B[0mbytes_io\u001B[0m\u001B[1;33m,\u001B[0m \u001B[1;33m**\u001B[0m\u001B[0mkw\u001B[0m\u001B[1;33m)\u001B[0m\u001B[1;33m\u001B[0m\u001B[1;33m\u001B[0m\u001B[0m\n\u001B[0m\u001B[0;32m    133\u001B[0m     \u001B[0mdata\u001B[0m \u001B[1;33m=\u001B[0m \u001B[0mbytes_io\u001B[0m\u001B[1;33m.\u001B[0m\u001B[0mgetvalue\u001B[0m\u001B[1;33m(\u001B[0m\u001B[1;33m)\u001B[0m\u001B[1;33m\u001B[0m\u001B[1;33m\u001B[0m\u001B[0m\n\u001B[0;32m    134\u001B[0m     \u001B[1;32mif\u001B[0m \u001B[0mfmt\u001B[0m \u001B[1;33m==\u001B[0m \u001B[1;34m'svg'\u001B[0m\u001B[1;33m:\u001B[0m\u001B[1;33m\u001B[0m\u001B[1;33m\u001B[0m\u001B[0m\n",
      "\u001B[1;32mc:\\users\\luka\\appdata\\local\\programs\\python\\python39\\lib\\site-packages\\matplotlib\\backend_bases.py\u001B[0m in \u001B[0;36mprint_figure\u001B[1;34m(self, filename, dpi, facecolor, edgecolor, orientation, format, bbox_inches, pad_inches, bbox_extra_artists, backend, **kwargs)\u001B[0m\n\u001B[0;32m   2191\u001B[0m                            else suppress())\n\u001B[0;32m   2192\u001B[0m                     \u001B[1;32mwith\u001B[0m \u001B[0mctx\u001B[0m\u001B[1;33m:\u001B[0m\u001B[1;33m\u001B[0m\u001B[1;33m\u001B[0m\u001B[0m\n\u001B[1;32m-> 2193\u001B[1;33m                         \u001B[0mself\u001B[0m\u001B[1;33m.\u001B[0m\u001B[0mfigure\u001B[0m\u001B[1;33m.\u001B[0m\u001B[0mdraw\u001B[0m\u001B[1;33m(\u001B[0m\u001B[0mrenderer\u001B[0m\u001B[1;33m)\u001B[0m\u001B[1;33m\u001B[0m\u001B[1;33m\u001B[0m\u001B[0m\n\u001B[0m\u001B[0;32m   2194\u001B[0m \u001B[1;33m\u001B[0m\u001B[0m\n\u001B[0;32m   2195\u001B[0m                     bbox_inches = self.figure.get_tightbbox(\n",
      "\u001B[1;32mc:\\users\\luka\\appdata\\local\\programs\\python\\python39\\lib\\site-packages\\matplotlib\\artist.py\u001B[0m in \u001B[0;36mdraw_wrapper\u001B[1;34m(artist, renderer, *args, **kwargs)\u001B[0m\n\u001B[0;32m     39\u001B[0m                 \u001B[0mrenderer\u001B[0m\u001B[1;33m.\u001B[0m\u001B[0mstart_filter\u001B[0m\u001B[1;33m(\u001B[0m\u001B[1;33m)\u001B[0m\u001B[1;33m\u001B[0m\u001B[1;33m\u001B[0m\u001B[0m\n\u001B[0;32m     40\u001B[0m \u001B[1;33m\u001B[0m\u001B[0m\n\u001B[1;32m---> 41\u001B[1;33m             \u001B[1;32mreturn\u001B[0m \u001B[0mdraw\u001B[0m\u001B[1;33m(\u001B[0m\u001B[0martist\u001B[0m\u001B[1;33m,\u001B[0m \u001B[0mrenderer\u001B[0m\u001B[1;33m,\u001B[0m \u001B[1;33m*\u001B[0m\u001B[0margs\u001B[0m\u001B[1;33m,\u001B[0m \u001B[1;33m**\u001B[0m\u001B[0mkwargs\u001B[0m\u001B[1;33m)\u001B[0m\u001B[1;33m\u001B[0m\u001B[1;33m\u001B[0m\u001B[0m\n\u001B[0m\u001B[0;32m     42\u001B[0m         \u001B[1;32mfinally\u001B[0m\u001B[1;33m:\u001B[0m\u001B[1;33m\u001B[0m\u001B[1;33m\u001B[0m\u001B[0m\n\u001B[0;32m     43\u001B[0m             \u001B[1;32mif\u001B[0m \u001B[0martist\u001B[0m\u001B[1;33m.\u001B[0m\u001B[0mget_agg_filter\u001B[0m\u001B[1;33m(\u001B[0m\u001B[1;33m)\u001B[0m \u001B[1;32mis\u001B[0m \u001B[1;32mnot\u001B[0m \u001B[1;32mNone\u001B[0m\u001B[1;33m:\u001B[0m\u001B[1;33m\u001B[0m\u001B[1;33m\u001B[0m\u001B[0m\n",
      "\u001B[1;32mc:\\users\\luka\\appdata\\local\\programs\\python\\python39\\lib\\site-packages\\matplotlib\\figure.py\u001B[0m in \u001B[0;36mdraw\u001B[1;34m(self, renderer)\u001B[0m\n\u001B[0;32m   1861\u001B[0m \u001B[1;33m\u001B[0m\u001B[0m\n\u001B[0;32m   1862\u001B[0m             \u001B[0mself\u001B[0m\u001B[1;33m.\u001B[0m\u001B[0mpatch\u001B[0m\u001B[1;33m.\u001B[0m\u001B[0mdraw\u001B[0m\u001B[1;33m(\u001B[0m\u001B[0mrenderer\u001B[0m\u001B[1;33m)\u001B[0m\u001B[1;33m\u001B[0m\u001B[1;33m\u001B[0m\u001B[0m\n\u001B[1;32m-> 1863\u001B[1;33m             mimage._draw_list_compositing_images(\n\u001B[0m\u001B[0;32m   1864\u001B[0m                 renderer, self, artists, self.suppressComposite)\n\u001B[0;32m   1865\u001B[0m \u001B[1;33m\u001B[0m\u001B[0m\n",
      "\u001B[1;32mc:\\users\\luka\\appdata\\local\\programs\\python\\python39\\lib\\site-packages\\matplotlib\\image.py\u001B[0m in \u001B[0;36m_draw_list_compositing_images\u001B[1;34m(renderer, parent, artists, suppress_composite)\u001B[0m\n\u001B[0;32m    129\u001B[0m     \u001B[1;32mif\u001B[0m \u001B[0mnot_composite\u001B[0m \u001B[1;32mor\u001B[0m \u001B[1;32mnot\u001B[0m \u001B[0mhas_images\u001B[0m\u001B[1;33m:\u001B[0m\u001B[1;33m\u001B[0m\u001B[1;33m\u001B[0m\u001B[0m\n\u001B[0;32m    130\u001B[0m         \u001B[1;32mfor\u001B[0m \u001B[0ma\u001B[0m \u001B[1;32min\u001B[0m \u001B[0martists\u001B[0m\u001B[1;33m:\u001B[0m\u001B[1;33m\u001B[0m\u001B[1;33m\u001B[0m\u001B[0m\n\u001B[1;32m--> 131\u001B[1;33m             \u001B[0ma\u001B[0m\u001B[1;33m.\u001B[0m\u001B[0mdraw\u001B[0m\u001B[1;33m(\u001B[0m\u001B[0mrenderer\u001B[0m\u001B[1;33m)\u001B[0m\u001B[1;33m\u001B[0m\u001B[1;33m\u001B[0m\u001B[0m\n\u001B[0m\u001B[0;32m    132\u001B[0m     \u001B[1;32melse\u001B[0m\u001B[1;33m:\u001B[0m\u001B[1;33m\u001B[0m\u001B[1;33m\u001B[0m\u001B[0m\n\u001B[0;32m    133\u001B[0m         \u001B[1;31m# Composite any adjacent images together\u001B[0m\u001B[1;33m\u001B[0m\u001B[1;33m\u001B[0m\u001B[1;33m\u001B[0m\u001B[0m\n",
      "\u001B[1;32mc:\\users\\luka\\appdata\\local\\programs\\python\\python39\\lib\\site-packages\\matplotlib\\artist.py\u001B[0m in \u001B[0;36mdraw_wrapper\u001B[1;34m(artist, renderer, *args, **kwargs)\u001B[0m\n\u001B[0;32m     39\u001B[0m                 \u001B[0mrenderer\u001B[0m\u001B[1;33m.\u001B[0m\u001B[0mstart_filter\u001B[0m\u001B[1;33m(\u001B[0m\u001B[1;33m)\u001B[0m\u001B[1;33m\u001B[0m\u001B[1;33m\u001B[0m\u001B[0m\n\u001B[0;32m     40\u001B[0m \u001B[1;33m\u001B[0m\u001B[0m\n\u001B[1;32m---> 41\u001B[1;33m             \u001B[1;32mreturn\u001B[0m \u001B[0mdraw\u001B[0m\u001B[1;33m(\u001B[0m\u001B[0martist\u001B[0m\u001B[1;33m,\u001B[0m \u001B[0mrenderer\u001B[0m\u001B[1;33m,\u001B[0m \u001B[1;33m*\u001B[0m\u001B[0margs\u001B[0m\u001B[1;33m,\u001B[0m \u001B[1;33m**\u001B[0m\u001B[0mkwargs\u001B[0m\u001B[1;33m)\u001B[0m\u001B[1;33m\u001B[0m\u001B[1;33m\u001B[0m\u001B[0m\n\u001B[0m\u001B[0;32m     42\u001B[0m         \u001B[1;32mfinally\u001B[0m\u001B[1;33m:\u001B[0m\u001B[1;33m\u001B[0m\u001B[1;33m\u001B[0m\u001B[0m\n\u001B[0;32m     43\u001B[0m             \u001B[1;32mif\u001B[0m \u001B[0martist\u001B[0m\u001B[1;33m.\u001B[0m\u001B[0mget_agg_filter\u001B[0m\u001B[1;33m(\u001B[0m\u001B[1;33m)\u001B[0m \u001B[1;32mis\u001B[0m \u001B[1;32mnot\u001B[0m \u001B[1;32mNone\u001B[0m\u001B[1;33m:\u001B[0m\u001B[1;33m\u001B[0m\u001B[1;33m\u001B[0m\u001B[0m\n",
      "\u001B[1;32mc:\\users\\luka\\appdata\\local\\programs\\python\\python39\\lib\\site-packages\\matplotlib\\cbook\\deprecation.py\u001B[0m in \u001B[0;36mwrapper\u001B[1;34m(*inner_args, **inner_kwargs)\u001B[0m\n\u001B[0;32m    409\u001B[0m                          \u001B[1;32melse\u001B[0m \u001B[0mdeprecation_addendum\u001B[0m\u001B[1;33m,\u001B[0m\u001B[1;33m\u001B[0m\u001B[1;33m\u001B[0m\u001B[0m\n\u001B[0;32m    410\u001B[0m                 **kwargs)\n\u001B[1;32m--> 411\u001B[1;33m         \u001B[1;32mreturn\u001B[0m \u001B[0mfunc\u001B[0m\u001B[1;33m(\u001B[0m\u001B[1;33m*\u001B[0m\u001B[0minner_args\u001B[0m\u001B[1;33m,\u001B[0m \u001B[1;33m**\u001B[0m\u001B[0minner_kwargs\u001B[0m\u001B[1;33m)\u001B[0m\u001B[1;33m\u001B[0m\u001B[1;33m\u001B[0m\u001B[0m\n\u001B[0m\u001B[0;32m    412\u001B[0m \u001B[1;33m\u001B[0m\u001B[0m\n\u001B[0;32m    413\u001B[0m     \u001B[1;32mreturn\u001B[0m \u001B[0mwrapper\u001B[0m\u001B[1;33m\u001B[0m\u001B[1;33m\u001B[0m\u001B[0m\n",
      "\u001B[1;32mc:\\users\\luka\\appdata\\local\\programs\\python\\python39\\lib\\site-packages\\matplotlib\\axes\\_base.py\u001B[0m in \u001B[0;36mdraw\u001B[1;34m(self, renderer, inframe)\u001B[0m\n\u001B[0;32m   2745\u001B[0m             \u001B[0mrenderer\u001B[0m\u001B[1;33m.\u001B[0m\u001B[0mstop_rasterizing\u001B[0m\u001B[1;33m(\u001B[0m\u001B[1;33m)\u001B[0m\u001B[1;33m\u001B[0m\u001B[1;33m\u001B[0m\u001B[0m\n\u001B[0;32m   2746\u001B[0m \u001B[1;33m\u001B[0m\u001B[0m\n\u001B[1;32m-> 2747\u001B[1;33m         \u001B[0mmimage\u001B[0m\u001B[1;33m.\u001B[0m\u001B[0m_draw_list_compositing_images\u001B[0m\u001B[1;33m(\u001B[0m\u001B[0mrenderer\u001B[0m\u001B[1;33m,\u001B[0m \u001B[0mself\u001B[0m\u001B[1;33m,\u001B[0m \u001B[0martists\u001B[0m\u001B[1;33m)\u001B[0m\u001B[1;33m\u001B[0m\u001B[1;33m\u001B[0m\u001B[0m\n\u001B[0m\u001B[0;32m   2748\u001B[0m \u001B[1;33m\u001B[0m\u001B[0m\n\u001B[0;32m   2749\u001B[0m         \u001B[0mrenderer\u001B[0m\u001B[1;33m.\u001B[0m\u001B[0mclose_group\u001B[0m\u001B[1;33m(\u001B[0m\u001B[1;34m'axes'\u001B[0m\u001B[1;33m)\u001B[0m\u001B[1;33m\u001B[0m\u001B[1;33m\u001B[0m\u001B[0m\n",
      "\u001B[1;32mc:\\users\\luka\\appdata\\local\\programs\\python\\python39\\lib\\site-packages\\matplotlib\\image.py\u001B[0m in \u001B[0;36m_draw_list_compositing_images\u001B[1;34m(renderer, parent, artists, suppress_composite)\u001B[0m\n\u001B[0;32m    129\u001B[0m     \u001B[1;32mif\u001B[0m \u001B[0mnot_composite\u001B[0m \u001B[1;32mor\u001B[0m \u001B[1;32mnot\u001B[0m \u001B[0mhas_images\u001B[0m\u001B[1;33m:\u001B[0m\u001B[1;33m\u001B[0m\u001B[1;33m\u001B[0m\u001B[0m\n\u001B[0;32m    130\u001B[0m         \u001B[1;32mfor\u001B[0m \u001B[0ma\u001B[0m \u001B[1;32min\u001B[0m \u001B[0martists\u001B[0m\u001B[1;33m:\u001B[0m\u001B[1;33m\u001B[0m\u001B[1;33m\u001B[0m\u001B[0m\n\u001B[1;32m--> 131\u001B[1;33m             \u001B[0ma\u001B[0m\u001B[1;33m.\u001B[0m\u001B[0mdraw\u001B[0m\u001B[1;33m(\u001B[0m\u001B[0mrenderer\u001B[0m\u001B[1;33m)\u001B[0m\u001B[1;33m\u001B[0m\u001B[1;33m\u001B[0m\u001B[0m\n\u001B[0m\u001B[0;32m    132\u001B[0m     \u001B[1;32melse\u001B[0m\u001B[1;33m:\u001B[0m\u001B[1;33m\u001B[0m\u001B[1;33m\u001B[0m\u001B[0m\n\u001B[0;32m    133\u001B[0m         \u001B[1;31m# Composite any adjacent images together\u001B[0m\u001B[1;33m\u001B[0m\u001B[1;33m\u001B[0m\u001B[1;33m\u001B[0m\u001B[0m\n",
      "\u001B[1;32mc:\\users\\luka\\appdata\\local\\programs\\python\\python39\\lib\\site-packages\\matplotlib\\artist.py\u001B[0m in \u001B[0;36mdraw_wrapper\u001B[1;34m(artist, renderer, *args, **kwargs)\u001B[0m\n\u001B[0;32m     39\u001B[0m                 \u001B[0mrenderer\u001B[0m\u001B[1;33m.\u001B[0m\u001B[0mstart_filter\u001B[0m\u001B[1;33m(\u001B[0m\u001B[1;33m)\u001B[0m\u001B[1;33m\u001B[0m\u001B[1;33m\u001B[0m\u001B[0m\n\u001B[0;32m     40\u001B[0m \u001B[1;33m\u001B[0m\u001B[0m\n\u001B[1;32m---> 41\u001B[1;33m             \u001B[1;32mreturn\u001B[0m \u001B[0mdraw\u001B[0m\u001B[1;33m(\u001B[0m\u001B[0martist\u001B[0m\u001B[1;33m,\u001B[0m \u001B[0mrenderer\u001B[0m\u001B[1;33m,\u001B[0m \u001B[1;33m*\u001B[0m\u001B[0margs\u001B[0m\u001B[1;33m,\u001B[0m \u001B[1;33m**\u001B[0m\u001B[0mkwargs\u001B[0m\u001B[1;33m)\u001B[0m\u001B[1;33m\u001B[0m\u001B[1;33m\u001B[0m\u001B[0m\n\u001B[0m\u001B[0;32m     42\u001B[0m         \u001B[1;32mfinally\u001B[0m\u001B[1;33m:\u001B[0m\u001B[1;33m\u001B[0m\u001B[1;33m\u001B[0m\u001B[0m\n\u001B[0;32m     43\u001B[0m             \u001B[1;32mif\u001B[0m \u001B[0martist\u001B[0m\u001B[1;33m.\u001B[0m\u001B[0mget_agg_filter\u001B[0m\u001B[1;33m(\u001B[0m\u001B[1;33m)\u001B[0m \u001B[1;32mis\u001B[0m \u001B[1;32mnot\u001B[0m \u001B[1;32mNone\u001B[0m\u001B[1;33m:\u001B[0m\u001B[1;33m\u001B[0m\u001B[1;33m\u001B[0m\u001B[0m\n",
      "\u001B[1;32mc:\\users\\luka\\appdata\\local\\programs\\python\\python39\\lib\\site-packages\\matplotlib\\legend.py\u001B[0m in \u001B[0;36mdraw\u001B[1;34m(self, renderer)\u001B[0m\n\u001B[0;32m    604\u001B[0m         \u001B[1;31m# update the location and size of the legend. This needs to\u001B[0m\u001B[1;33m\u001B[0m\u001B[1;33m\u001B[0m\u001B[1;33m\u001B[0m\u001B[0m\n\u001B[0;32m    605\u001B[0m         \u001B[1;31m# be done in any case to clip the figure right.\u001B[0m\u001B[1;33m\u001B[0m\u001B[1;33m\u001B[0m\u001B[1;33m\u001B[0m\u001B[0m\n\u001B[1;32m--> 606\u001B[1;33m         \u001B[0mbbox\u001B[0m \u001B[1;33m=\u001B[0m \u001B[0mself\u001B[0m\u001B[1;33m.\u001B[0m\u001B[0m_legend_box\u001B[0m\u001B[1;33m.\u001B[0m\u001B[0mget_window_extent\u001B[0m\u001B[1;33m(\u001B[0m\u001B[0mrenderer\u001B[0m\u001B[1;33m)\u001B[0m\u001B[1;33m\u001B[0m\u001B[1;33m\u001B[0m\u001B[0m\n\u001B[0m\u001B[0;32m    607\u001B[0m         \u001B[0mself\u001B[0m\u001B[1;33m.\u001B[0m\u001B[0mlegendPatch\u001B[0m\u001B[1;33m.\u001B[0m\u001B[0mset_bounds\u001B[0m\u001B[1;33m(\u001B[0m\u001B[0mbbox\u001B[0m\u001B[1;33m.\u001B[0m\u001B[0mx0\u001B[0m\u001B[1;33m,\u001B[0m \u001B[0mbbox\u001B[0m\u001B[1;33m.\u001B[0m\u001B[0my0\u001B[0m\u001B[1;33m,\u001B[0m \u001B[0mbbox\u001B[0m\u001B[1;33m.\u001B[0m\u001B[0mwidth\u001B[0m\u001B[1;33m,\u001B[0m \u001B[0mbbox\u001B[0m\u001B[1;33m.\u001B[0m\u001B[0mheight\u001B[0m\u001B[1;33m)\u001B[0m\u001B[1;33m\u001B[0m\u001B[1;33m\u001B[0m\u001B[0m\n\u001B[0;32m    608\u001B[0m         \u001B[0mself\u001B[0m\u001B[1;33m.\u001B[0m\u001B[0mlegendPatch\u001B[0m\u001B[1;33m.\u001B[0m\u001B[0mset_mutation_scale\u001B[0m\u001B[1;33m(\u001B[0m\u001B[0mfontsize\u001B[0m\u001B[1;33m)\u001B[0m\u001B[1;33m\u001B[0m\u001B[1;33m\u001B[0m\u001B[0m\n",
      "\u001B[1;32mc:\\users\\luka\\appdata\\local\\programs\\python\\python39\\lib\\site-packages\\matplotlib\\offsetbox.py\u001B[0m in \u001B[0;36mget_window_extent\u001B[1;34m(self, renderer)\u001B[0m\n\u001B[0;32m    344\u001B[0m     \u001B[1;32mdef\u001B[0m \u001B[0mget_window_extent\u001B[0m\u001B[1;33m(\u001B[0m\u001B[0mself\u001B[0m\u001B[1;33m,\u001B[0m \u001B[0mrenderer\u001B[0m\u001B[1;33m)\u001B[0m\u001B[1;33m:\u001B[0m\u001B[1;33m\u001B[0m\u001B[1;33m\u001B[0m\u001B[0m\n\u001B[0;32m    345\u001B[0m         \u001B[1;34m\"\"\"Return the bounding box (`.Bbox`) in display space.\"\"\"\u001B[0m\u001B[1;33m\u001B[0m\u001B[1;33m\u001B[0m\u001B[0m\n\u001B[1;32m--> 346\u001B[1;33m         \u001B[0mw\u001B[0m\u001B[1;33m,\u001B[0m \u001B[0mh\u001B[0m\u001B[1;33m,\u001B[0m \u001B[0mxd\u001B[0m\u001B[1;33m,\u001B[0m \u001B[0myd\u001B[0m\u001B[1;33m,\u001B[0m \u001B[0moffsets\u001B[0m \u001B[1;33m=\u001B[0m \u001B[0mself\u001B[0m\u001B[1;33m.\u001B[0m\u001B[0mget_extent_offsets\u001B[0m\u001B[1;33m(\u001B[0m\u001B[0mrenderer\u001B[0m\u001B[1;33m)\u001B[0m\u001B[1;33m\u001B[0m\u001B[1;33m\u001B[0m\u001B[0m\n\u001B[0m\u001B[0;32m    347\u001B[0m         \u001B[0mpx\u001B[0m\u001B[1;33m,\u001B[0m \u001B[0mpy\u001B[0m \u001B[1;33m=\u001B[0m \u001B[0mself\u001B[0m\u001B[1;33m.\u001B[0m\u001B[0mget_offset\u001B[0m\u001B[1;33m(\u001B[0m\u001B[0mw\u001B[0m\u001B[1;33m,\u001B[0m \u001B[0mh\u001B[0m\u001B[1;33m,\u001B[0m \u001B[0mxd\u001B[0m\u001B[1;33m,\u001B[0m \u001B[0myd\u001B[0m\u001B[1;33m,\u001B[0m \u001B[0mrenderer\u001B[0m\u001B[1;33m)\u001B[0m\u001B[1;33m\u001B[0m\u001B[1;33m\u001B[0m\u001B[0m\n\u001B[0;32m    348\u001B[0m         \u001B[1;32mreturn\u001B[0m \u001B[0mmtransforms\u001B[0m\u001B[1;33m.\u001B[0m\u001B[0mBbox\u001B[0m\u001B[1;33m.\u001B[0m\u001B[0mfrom_bounds\u001B[0m\u001B[1;33m(\u001B[0m\u001B[0mpx\u001B[0m \u001B[1;33m-\u001B[0m \u001B[0mxd\u001B[0m\u001B[1;33m,\u001B[0m \u001B[0mpy\u001B[0m \u001B[1;33m-\u001B[0m \u001B[0myd\u001B[0m\u001B[1;33m,\u001B[0m \u001B[0mw\u001B[0m\u001B[1;33m,\u001B[0m \u001B[0mh\u001B[0m\u001B[1;33m)\u001B[0m\u001B[1;33m\u001B[0m\u001B[1;33m\u001B[0m\u001B[0m\n",
      "\u001B[1;32mc:\\users\\luka\\appdata\\local\\programs\\python\\python39\\lib\\site-packages\\matplotlib\\offsetbox.py\u001B[0m in \u001B[0;36mget_extent_offsets\u001B[1;34m(self, renderer)\u001B[0m\n\u001B[0;32m    469\u001B[0m                     \u001B[0mc\u001B[0m\u001B[1;33m.\u001B[0m\u001B[0mset_width\u001B[0m\u001B[1;33m(\u001B[0m\u001B[0mself\u001B[0m\u001B[1;33m.\u001B[0m\u001B[0mwidth\u001B[0m\u001B[1;33m)\u001B[0m\u001B[1;33m\u001B[0m\u001B[1;33m\u001B[0m\u001B[0m\n\u001B[0;32m    470\u001B[0m \u001B[1;33m\u001B[0m\u001B[0m\n\u001B[1;32m--> 471\u001B[1;33m         whd_list = [c.get_extent(renderer)\n\u001B[0m\u001B[0;32m    472\u001B[0m                     for c in self.get_visible_children()]\n\u001B[0;32m    473\u001B[0m         \u001B[0mwhd_list\u001B[0m \u001B[1;33m=\u001B[0m \u001B[1;33m[\u001B[0m\u001B[1;33m(\u001B[0m\u001B[0mw\u001B[0m\u001B[1;33m,\u001B[0m \u001B[0mh\u001B[0m\u001B[1;33m,\u001B[0m \u001B[0mxd\u001B[0m\u001B[1;33m,\u001B[0m \u001B[1;33m(\u001B[0m\u001B[0mh\u001B[0m \u001B[1;33m-\u001B[0m \u001B[0myd\u001B[0m\u001B[1;33m)\u001B[0m\u001B[1;33m)\u001B[0m \u001B[1;32mfor\u001B[0m \u001B[0mw\u001B[0m\u001B[1;33m,\u001B[0m \u001B[0mh\u001B[0m\u001B[1;33m,\u001B[0m \u001B[0mxd\u001B[0m\u001B[1;33m,\u001B[0m \u001B[0myd\u001B[0m \u001B[1;32min\u001B[0m \u001B[0mwhd_list\u001B[0m\u001B[1;33m]\u001B[0m\u001B[1;33m\u001B[0m\u001B[1;33m\u001B[0m\u001B[0m\n",
      "\u001B[1;32mc:\\users\\luka\\appdata\\local\\programs\\python\\python39\\lib\\site-packages\\matplotlib\\offsetbox.py\u001B[0m in \u001B[0;36m<listcomp>\u001B[1;34m(.0)\u001B[0m\n\u001B[0;32m    469\u001B[0m                     \u001B[0mc\u001B[0m\u001B[1;33m.\u001B[0m\u001B[0mset_width\u001B[0m\u001B[1;33m(\u001B[0m\u001B[0mself\u001B[0m\u001B[1;33m.\u001B[0m\u001B[0mwidth\u001B[0m\u001B[1;33m)\u001B[0m\u001B[1;33m\u001B[0m\u001B[1;33m\u001B[0m\u001B[0m\n\u001B[0;32m    470\u001B[0m \u001B[1;33m\u001B[0m\u001B[0m\n\u001B[1;32m--> 471\u001B[1;33m         whd_list = [c.get_extent(renderer)\n\u001B[0m\u001B[0;32m    472\u001B[0m                     for c in self.get_visible_children()]\n\u001B[0;32m    473\u001B[0m         \u001B[0mwhd_list\u001B[0m \u001B[1;33m=\u001B[0m \u001B[1;33m[\u001B[0m\u001B[1;33m(\u001B[0m\u001B[0mw\u001B[0m\u001B[1;33m,\u001B[0m \u001B[0mh\u001B[0m\u001B[1;33m,\u001B[0m \u001B[0mxd\u001B[0m\u001B[1;33m,\u001B[0m \u001B[1;33m(\u001B[0m\u001B[0mh\u001B[0m \u001B[1;33m-\u001B[0m \u001B[0myd\u001B[0m\u001B[1;33m)\u001B[0m\u001B[1;33m)\u001B[0m \u001B[1;32mfor\u001B[0m \u001B[0mw\u001B[0m\u001B[1;33m,\u001B[0m \u001B[0mh\u001B[0m\u001B[1;33m,\u001B[0m \u001B[0mxd\u001B[0m\u001B[1;33m,\u001B[0m \u001B[0myd\u001B[0m \u001B[1;32min\u001B[0m \u001B[0mwhd_list\u001B[0m\u001B[1;33m]\u001B[0m\u001B[1;33m\u001B[0m\u001B[1;33m\u001B[0m\u001B[0m\n",
      "\u001B[1;32mc:\\users\\luka\\appdata\\local\\programs\\python\\python39\\lib\\site-packages\\matplotlib\\offsetbox.py\u001B[0m in \u001B[0;36mget_extent\u001B[1;34m(self, renderer)\u001B[0m\n\u001B[0;32m    339\u001B[0m     \u001B[1;32mdef\u001B[0m \u001B[0mget_extent\u001B[0m\u001B[1;33m(\u001B[0m\u001B[0mself\u001B[0m\u001B[1;33m,\u001B[0m \u001B[0mrenderer\u001B[0m\u001B[1;33m)\u001B[0m\u001B[1;33m:\u001B[0m\u001B[1;33m\u001B[0m\u001B[1;33m\u001B[0m\u001B[0m\n\u001B[0;32m    340\u001B[0m         \u001B[1;34m\"\"\"Return a tuple ``width, height, xdescent, ydescent`` of the box.\"\"\"\u001B[0m\u001B[1;33m\u001B[0m\u001B[1;33m\u001B[0m\u001B[0m\n\u001B[1;32m--> 341\u001B[1;33m         \u001B[0mw\u001B[0m\u001B[1;33m,\u001B[0m \u001B[0mh\u001B[0m\u001B[1;33m,\u001B[0m \u001B[0mxd\u001B[0m\u001B[1;33m,\u001B[0m \u001B[0myd\u001B[0m\u001B[1;33m,\u001B[0m \u001B[0moffsets\u001B[0m \u001B[1;33m=\u001B[0m \u001B[0mself\u001B[0m\u001B[1;33m.\u001B[0m\u001B[0mget_extent_offsets\u001B[0m\u001B[1;33m(\u001B[0m\u001B[0mrenderer\u001B[0m\u001B[1;33m)\u001B[0m\u001B[1;33m\u001B[0m\u001B[1;33m\u001B[0m\u001B[0m\n\u001B[0m\u001B[0;32m    342\u001B[0m         \u001B[1;32mreturn\u001B[0m \u001B[0mw\u001B[0m\u001B[1;33m,\u001B[0m \u001B[0mh\u001B[0m\u001B[1;33m,\u001B[0m \u001B[0mxd\u001B[0m\u001B[1;33m,\u001B[0m \u001B[0myd\u001B[0m\u001B[1;33m\u001B[0m\u001B[1;33m\u001B[0m\u001B[0m\n\u001B[0;32m    343\u001B[0m \u001B[1;33m\u001B[0m\u001B[0m\n",
      "\u001B[1;32mc:\\users\\luka\\appdata\\local\\programs\\python\\python39\\lib\\site-packages\\matplotlib\\offsetbox.py\u001B[0m in \u001B[0;36mget_extent_offsets\u001B[1;34m(self, renderer)\u001B[0m\n\u001B[0;32m    542\u001B[0m         \u001B[0msep\u001B[0m \u001B[1;33m=\u001B[0m \u001B[0mself\u001B[0m\u001B[1;33m.\u001B[0m\u001B[0msep\u001B[0m \u001B[1;33m*\u001B[0m \u001B[0mdpicor\u001B[0m\u001B[1;33m\u001B[0m\u001B[1;33m\u001B[0m\u001B[0m\n\u001B[0;32m    543\u001B[0m \u001B[1;33m\u001B[0m\u001B[0m\n\u001B[1;32m--> 544\u001B[1;33m         whd_list = [c.get_extent(renderer)\n\u001B[0m\u001B[0;32m    545\u001B[0m                     for c in self.get_visible_children()]\n\u001B[0;32m    546\u001B[0m \u001B[1;33m\u001B[0m\u001B[0m\n",
      "\u001B[1;32mc:\\users\\luka\\appdata\\local\\programs\\python\\python39\\lib\\site-packages\\matplotlib\\offsetbox.py\u001B[0m in \u001B[0;36m<listcomp>\u001B[1;34m(.0)\u001B[0m\n\u001B[0;32m    542\u001B[0m         \u001B[0msep\u001B[0m \u001B[1;33m=\u001B[0m \u001B[0mself\u001B[0m\u001B[1;33m.\u001B[0m\u001B[0msep\u001B[0m \u001B[1;33m*\u001B[0m \u001B[0mdpicor\u001B[0m\u001B[1;33m\u001B[0m\u001B[1;33m\u001B[0m\u001B[0m\n\u001B[0;32m    543\u001B[0m \u001B[1;33m\u001B[0m\u001B[0m\n\u001B[1;32m--> 544\u001B[1;33m         whd_list = [c.get_extent(renderer)\n\u001B[0m\u001B[0;32m    545\u001B[0m                     for c in self.get_visible_children()]\n\u001B[0;32m    546\u001B[0m \u001B[1;33m\u001B[0m\u001B[0m\n",
      "\u001B[1;32mc:\\users\\luka\\appdata\\local\\programs\\python\\python39\\lib\\site-packages\\matplotlib\\offsetbox.py\u001B[0m in \u001B[0;36mget_extent\u001B[1;34m(self, renderer)\u001B[0m\n\u001B[0;32m    339\u001B[0m     \u001B[1;32mdef\u001B[0m \u001B[0mget_extent\u001B[0m\u001B[1;33m(\u001B[0m\u001B[0mself\u001B[0m\u001B[1;33m,\u001B[0m \u001B[0mrenderer\u001B[0m\u001B[1;33m)\u001B[0m\u001B[1;33m:\u001B[0m\u001B[1;33m\u001B[0m\u001B[1;33m\u001B[0m\u001B[0m\n\u001B[0;32m    340\u001B[0m         \u001B[1;34m\"\"\"Return a tuple ``width, height, xdescent, ydescent`` of the box.\"\"\"\u001B[0m\u001B[1;33m\u001B[0m\u001B[1;33m\u001B[0m\u001B[0m\n\u001B[1;32m--> 341\u001B[1;33m         \u001B[0mw\u001B[0m\u001B[1;33m,\u001B[0m \u001B[0mh\u001B[0m\u001B[1;33m,\u001B[0m \u001B[0mxd\u001B[0m\u001B[1;33m,\u001B[0m \u001B[0myd\u001B[0m\u001B[1;33m,\u001B[0m \u001B[0moffsets\u001B[0m \u001B[1;33m=\u001B[0m \u001B[0mself\u001B[0m\u001B[1;33m.\u001B[0m\u001B[0mget_extent_offsets\u001B[0m\u001B[1;33m(\u001B[0m\u001B[0mrenderer\u001B[0m\u001B[1;33m)\u001B[0m\u001B[1;33m\u001B[0m\u001B[1;33m\u001B[0m\u001B[0m\n\u001B[0m\u001B[0;32m    342\u001B[0m         \u001B[1;32mreturn\u001B[0m \u001B[0mw\u001B[0m\u001B[1;33m,\u001B[0m \u001B[0mh\u001B[0m\u001B[1;33m,\u001B[0m \u001B[0mxd\u001B[0m\u001B[1;33m,\u001B[0m \u001B[0myd\u001B[0m\u001B[1;33m\u001B[0m\u001B[1;33m\u001B[0m\u001B[0m\n\u001B[0;32m    343\u001B[0m \u001B[1;33m\u001B[0m\u001B[0m\n",
      "\u001B[1;32mc:\\users\\luka\\appdata\\local\\programs\\python\\python39\\lib\\site-packages\\matplotlib\\offsetbox.py\u001B[0m in \u001B[0;36mget_extent_offsets\u001B[1;34m(self, renderer)\u001B[0m\n\u001B[0;32m    469\u001B[0m                     \u001B[0mc\u001B[0m\u001B[1;33m.\u001B[0m\u001B[0mset_width\u001B[0m\u001B[1;33m(\u001B[0m\u001B[0mself\u001B[0m\u001B[1;33m.\u001B[0m\u001B[0mwidth\u001B[0m\u001B[1;33m)\u001B[0m\u001B[1;33m\u001B[0m\u001B[1;33m\u001B[0m\u001B[0m\n\u001B[0;32m    470\u001B[0m \u001B[1;33m\u001B[0m\u001B[0m\n\u001B[1;32m--> 471\u001B[1;33m         whd_list = [c.get_extent(renderer)\n\u001B[0m\u001B[0;32m    472\u001B[0m                     for c in self.get_visible_children()]\n\u001B[0;32m    473\u001B[0m         \u001B[0mwhd_list\u001B[0m \u001B[1;33m=\u001B[0m \u001B[1;33m[\u001B[0m\u001B[1;33m(\u001B[0m\u001B[0mw\u001B[0m\u001B[1;33m,\u001B[0m \u001B[0mh\u001B[0m\u001B[1;33m,\u001B[0m \u001B[0mxd\u001B[0m\u001B[1;33m,\u001B[0m \u001B[1;33m(\u001B[0m\u001B[0mh\u001B[0m \u001B[1;33m-\u001B[0m \u001B[0myd\u001B[0m\u001B[1;33m)\u001B[0m\u001B[1;33m)\u001B[0m \u001B[1;32mfor\u001B[0m \u001B[0mw\u001B[0m\u001B[1;33m,\u001B[0m \u001B[0mh\u001B[0m\u001B[1;33m,\u001B[0m \u001B[0mxd\u001B[0m\u001B[1;33m,\u001B[0m \u001B[0myd\u001B[0m \u001B[1;32min\u001B[0m \u001B[0mwhd_list\u001B[0m\u001B[1;33m]\u001B[0m\u001B[1;33m\u001B[0m\u001B[1;33m\u001B[0m\u001B[0m\n",
      "\u001B[1;32mc:\\users\\luka\\appdata\\local\\programs\\python\\python39\\lib\\site-packages\\matplotlib\\offsetbox.py\u001B[0m in \u001B[0;36m<listcomp>\u001B[1;34m(.0)\u001B[0m\n\u001B[0;32m    469\u001B[0m                     \u001B[0mc\u001B[0m\u001B[1;33m.\u001B[0m\u001B[0mset_width\u001B[0m\u001B[1;33m(\u001B[0m\u001B[0mself\u001B[0m\u001B[1;33m.\u001B[0m\u001B[0mwidth\u001B[0m\u001B[1;33m)\u001B[0m\u001B[1;33m\u001B[0m\u001B[1;33m\u001B[0m\u001B[0m\n\u001B[0;32m    470\u001B[0m \u001B[1;33m\u001B[0m\u001B[0m\n\u001B[1;32m--> 471\u001B[1;33m         whd_list = [c.get_extent(renderer)\n\u001B[0m\u001B[0;32m    472\u001B[0m                     for c in self.get_visible_children()]\n\u001B[0;32m    473\u001B[0m         \u001B[0mwhd_list\u001B[0m \u001B[1;33m=\u001B[0m \u001B[1;33m[\u001B[0m\u001B[1;33m(\u001B[0m\u001B[0mw\u001B[0m\u001B[1;33m,\u001B[0m \u001B[0mh\u001B[0m\u001B[1;33m,\u001B[0m \u001B[0mxd\u001B[0m\u001B[1;33m,\u001B[0m \u001B[1;33m(\u001B[0m\u001B[0mh\u001B[0m \u001B[1;33m-\u001B[0m \u001B[0myd\u001B[0m\u001B[1;33m)\u001B[0m\u001B[1;33m)\u001B[0m \u001B[1;32mfor\u001B[0m \u001B[0mw\u001B[0m\u001B[1;33m,\u001B[0m \u001B[0mh\u001B[0m\u001B[1;33m,\u001B[0m \u001B[0mxd\u001B[0m\u001B[1;33m,\u001B[0m \u001B[0myd\u001B[0m \u001B[1;32min\u001B[0m \u001B[0mwhd_list\u001B[0m\u001B[1;33m]\u001B[0m\u001B[1;33m\u001B[0m\u001B[1;33m\u001B[0m\u001B[0m\n",
      "\u001B[1;32mc:\\users\\luka\\appdata\\local\\programs\\python\\python39\\lib\\site-packages\\matplotlib\\offsetbox.py\u001B[0m in \u001B[0;36mget_extent\u001B[1;34m(self, renderer)\u001B[0m\n\u001B[0;32m    339\u001B[0m     \u001B[1;32mdef\u001B[0m \u001B[0mget_extent\u001B[0m\u001B[1;33m(\u001B[0m\u001B[0mself\u001B[0m\u001B[1;33m,\u001B[0m \u001B[0mrenderer\u001B[0m\u001B[1;33m)\u001B[0m\u001B[1;33m:\u001B[0m\u001B[1;33m\u001B[0m\u001B[1;33m\u001B[0m\u001B[0m\n\u001B[0;32m    340\u001B[0m         \u001B[1;34m\"\"\"Return a tuple ``width, height, xdescent, ydescent`` of the box.\"\"\"\u001B[0m\u001B[1;33m\u001B[0m\u001B[1;33m\u001B[0m\u001B[0m\n\u001B[1;32m--> 341\u001B[1;33m         \u001B[0mw\u001B[0m\u001B[1;33m,\u001B[0m \u001B[0mh\u001B[0m\u001B[1;33m,\u001B[0m \u001B[0mxd\u001B[0m\u001B[1;33m,\u001B[0m \u001B[0myd\u001B[0m\u001B[1;33m,\u001B[0m \u001B[0moffsets\u001B[0m \u001B[1;33m=\u001B[0m \u001B[0mself\u001B[0m\u001B[1;33m.\u001B[0m\u001B[0mget_extent_offsets\u001B[0m\u001B[1;33m(\u001B[0m\u001B[0mrenderer\u001B[0m\u001B[1;33m)\u001B[0m\u001B[1;33m\u001B[0m\u001B[1;33m\u001B[0m\u001B[0m\n\u001B[0m\u001B[0;32m    342\u001B[0m         \u001B[1;32mreturn\u001B[0m \u001B[0mw\u001B[0m\u001B[1;33m,\u001B[0m \u001B[0mh\u001B[0m\u001B[1;33m,\u001B[0m \u001B[0mxd\u001B[0m\u001B[1;33m,\u001B[0m \u001B[0myd\u001B[0m\u001B[1;33m\u001B[0m\u001B[1;33m\u001B[0m\u001B[0m\n\u001B[0;32m    343\u001B[0m \u001B[1;33m\u001B[0m\u001B[0m\n",
      "\u001B[1;32mc:\\users\\luka\\appdata\\local\\programs\\python\\python39\\lib\\site-packages\\matplotlib\\offsetbox.py\u001B[0m in \u001B[0;36mget_extent_offsets\u001B[1;34m(self, renderer)\u001B[0m\n\u001B[0;32m    542\u001B[0m         \u001B[0msep\u001B[0m \u001B[1;33m=\u001B[0m \u001B[0mself\u001B[0m\u001B[1;33m.\u001B[0m\u001B[0msep\u001B[0m \u001B[1;33m*\u001B[0m \u001B[0mdpicor\u001B[0m\u001B[1;33m\u001B[0m\u001B[1;33m\u001B[0m\u001B[0m\n\u001B[0;32m    543\u001B[0m \u001B[1;33m\u001B[0m\u001B[0m\n\u001B[1;32m--> 544\u001B[1;33m         whd_list = [c.get_extent(renderer)\n\u001B[0m\u001B[0;32m    545\u001B[0m                     for c in self.get_visible_children()]\n\u001B[0;32m    546\u001B[0m \u001B[1;33m\u001B[0m\u001B[0m\n",
      "\u001B[1;32mc:\\users\\luka\\appdata\\local\\programs\\python\\python39\\lib\\site-packages\\matplotlib\\offsetbox.py\u001B[0m in \u001B[0;36m<listcomp>\u001B[1;34m(.0)\u001B[0m\n\u001B[0;32m    542\u001B[0m         \u001B[0msep\u001B[0m \u001B[1;33m=\u001B[0m \u001B[0mself\u001B[0m\u001B[1;33m.\u001B[0m\u001B[0msep\u001B[0m \u001B[1;33m*\u001B[0m \u001B[0mdpicor\u001B[0m\u001B[1;33m\u001B[0m\u001B[1;33m\u001B[0m\u001B[0m\n\u001B[0;32m    543\u001B[0m \u001B[1;33m\u001B[0m\u001B[0m\n\u001B[1;32m--> 544\u001B[1;33m         whd_list = [c.get_extent(renderer)\n\u001B[0m\u001B[0;32m    545\u001B[0m                     for c in self.get_visible_children()]\n\u001B[0;32m    546\u001B[0m \u001B[1;33m\u001B[0m\u001B[0m\n",
      "\u001B[1;32mc:\\users\\luka\\appdata\\local\\programs\\python\\python39\\lib\\site-packages\\matplotlib\\offsetbox.py\u001B[0m in \u001B[0;36mget_extent\u001B[1;34m(self, renderer)\u001B[0m\n\u001B[0;32m    884\u001B[0m             \"lp\", self._text._fontproperties, ismath=False)\n\u001B[0;32m    885\u001B[0m \u001B[1;33m\u001B[0m\u001B[0m\n\u001B[1;32m--> 886\u001B[1;33m         \u001B[0mbbox\u001B[0m\u001B[1;33m,\u001B[0m \u001B[0minfo\u001B[0m\u001B[1;33m,\u001B[0m \u001B[0md\u001B[0m \u001B[1;33m=\u001B[0m \u001B[0mself\u001B[0m\u001B[1;33m.\u001B[0m\u001B[0m_text\u001B[0m\u001B[1;33m.\u001B[0m\u001B[0m_get_layout\u001B[0m\u001B[1;33m(\u001B[0m\u001B[0mrenderer\u001B[0m\u001B[1;33m)\u001B[0m\u001B[1;33m\u001B[0m\u001B[1;33m\u001B[0m\u001B[0m\n\u001B[0m\u001B[0;32m    887\u001B[0m         \u001B[0mw\u001B[0m\u001B[1;33m,\u001B[0m \u001B[0mh\u001B[0m \u001B[1;33m=\u001B[0m \u001B[0mbbox\u001B[0m\u001B[1;33m.\u001B[0m\u001B[0mwidth\u001B[0m\u001B[1;33m,\u001B[0m \u001B[0mbbox\u001B[0m\u001B[1;33m.\u001B[0m\u001B[0mheight\u001B[0m\u001B[1;33m\u001B[0m\u001B[1;33m\u001B[0m\u001B[0m\n\u001B[0;32m    888\u001B[0m \u001B[1;33m\u001B[0m\u001B[0m\n",
      "\u001B[1;32mc:\\users\\luka\\appdata\\local\\programs\\python\\python39\\lib\\site-packages\\matplotlib\\text.py\u001B[0m in \u001B[0;36m_get_layout\u001B[1;34m(self, renderer)\u001B[0m\n\u001B[0;32m    293\u001B[0m             \u001B[0mclean_line\u001B[0m\u001B[1;33m,\u001B[0m \u001B[0mismath\u001B[0m \u001B[1;33m=\u001B[0m \u001B[0mself\u001B[0m\u001B[1;33m.\u001B[0m\u001B[0m_preprocess_math\u001B[0m\u001B[1;33m(\u001B[0m\u001B[0mline\u001B[0m\u001B[1;33m)\u001B[0m\u001B[1;33m\u001B[0m\u001B[1;33m\u001B[0m\u001B[0m\n\u001B[0;32m    294\u001B[0m             \u001B[1;32mif\u001B[0m \u001B[0mclean_line\u001B[0m\u001B[1;33m:\u001B[0m\u001B[1;33m\u001B[0m\u001B[1;33m\u001B[0m\u001B[0m\n\u001B[1;32m--> 295\u001B[1;33m                 w, h, d = renderer.get_text_width_height_descent(\n\u001B[0m\u001B[0;32m    296\u001B[0m                     clean_line, self._fontproperties, ismath=ismath)\n\u001B[0;32m    297\u001B[0m             \u001B[1;32melse\u001B[0m\u001B[1;33m:\u001B[0m\u001B[1;33m\u001B[0m\u001B[1;33m\u001B[0m\u001B[0m\n",
      "\u001B[1;32mc:\\users\\luka\\appdata\\local\\programs\\python\\python39\\lib\\site-packages\\matplotlib\\backends\\backend_agg.py\u001B[0m in \u001B[0;36mget_text_width_height_descent\u001B[1;34m(self, s, prop, ismath)\u001B[0m\n\u001B[0;32m    231\u001B[0m         \u001B[1;32mif\u001B[0m \u001B[0mismath\u001B[0m\u001B[1;33m:\u001B[0m\u001B[1;33m\u001B[0m\u001B[1;33m\u001B[0m\u001B[0m\n\u001B[0;32m    232\u001B[0m             \u001B[0mox\u001B[0m\u001B[1;33m,\u001B[0m \u001B[0moy\u001B[0m\u001B[1;33m,\u001B[0m \u001B[0mwidth\u001B[0m\u001B[1;33m,\u001B[0m \u001B[0mheight\u001B[0m\u001B[1;33m,\u001B[0m \u001B[0mdescent\u001B[0m\u001B[1;33m,\u001B[0m \u001B[0mfonts\u001B[0m\u001B[1;33m,\u001B[0m \u001B[0mused_characters\u001B[0m \u001B[1;33m=\u001B[0m\u001B[0;31m \u001B[0m\u001B[0;31m\\\u001B[0m\u001B[1;33m\u001B[0m\u001B[1;33m\u001B[0m\u001B[0m\n\u001B[1;32m--> 233\u001B[1;33m                 \u001B[0mself\u001B[0m\u001B[1;33m.\u001B[0m\u001B[0mmathtext_parser\u001B[0m\u001B[1;33m.\u001B[0m\u001B[0mparse\u001B[0m\u001B[1;33m(\u001B[0m\u001B[0ms\u001B[0m\u001B[1;33m,\u001B[0m \u001B[0mself\u001B[0m\u001B[1;33m.\u001B[0m\u001B[0mdpi\u001B[0m\u001B[1;33m,\u001B[0m \u001B[0mprop\u001B[0m\u001B[1;33m)\u001B[0m\u001B[1;33m\u001B[0m\u001B[1;33m\u001B[0m\u001B[0m\n\u001B[0m\u001B[0;32m    234\u001B[0m             \u001B[1;32mreturn\u001B[0m \u001B[0mwidth\u001B[0m\u001B[1;33m,\u001B[0m \u001B[0mheight\u001B[0m\u001B[1;33m,\u001B[0m \u001B[0mdescent\u001B[0m\u001B[1;33m\u001B[0m\u001B[1;33m\u001B[0m\u001B[0m\n\u001B[0;32m    235\u001B[0m \u001B[1;33m\u001B[0m\u001B[0m\n",
      "\u001B[1;32mc:\\users\\luka\\appdata\\local\\programs\\python\\python39\\lib\\site-packages\\matplotlib\\mathtext.py\u001B[0m in \u001B[0;36mparse\u001B[1;34m(self, s, dpi, prop)\u001B[0m\n\u001B[0;32m   3330\u001B[0m         \u001B[1;31m# mathtext.fontset rcParams also affect the parse (e.g. by affecting\u001B[0m\u001B[1;33m\u001B[0m\u001B[1;33m\u001B[0m\u001B[1;33m\u001B[0m\u001B[0m\n\u001B[0;32m   3331\u001B[0m         \u001B[1;31m# the glyph metrics).\u001B[0m\u001B[1;33m\u001B[0m\u001B[1;33m\u001B[0m\u001B[1;33m\u001B[0m\u001B[0m\n\u001B[1;32m-> 3332\u001B[1;33m         return self._parse_cached(\n\u001B[0m\u001B[0;32m   3333\u001B[0m             s, dpi, prop, rcParams['ps.useafm'], rcParams['mathtext.fontset'])\n\u001B[0;32m   3334\u001B[0m \u001B[1;33m\u001B[0m\u001B[0m\n",
      "\u001B[1;32mc:\\users\\luka\\appdata\\local\\programs\\python\\python39\\lib\\site-packages\\matplotlib\\mathtext.py\u001B[0m in \u001B[0;36m_parse_cached\u001B[1;34m(self, s, dpi, prop, ps_useafm, fontset)\u001B[0m\n\u001B[0;32m   3354\u001B[0m             \u001B[0mself\u001B[0m\u001B[1;33m.\u001B[0m\u001B[0m__class__\u001B[0m\u001B[1;33m.\u001B[0m\u001B[0m_parser\u001B[0m \u001B[1;33m=\u001B[0m \u001B[0mParser\u001B[0m\u001B[1;33m(\u001B[0m\u001B[1;33m)\u001B[0m\u001B[1;33m\u001B[0m\u001B[1;33m\u001B[0m\u001B[0m\n\u001B[0;32m   3355\u001B[0m \u001B[1;33m\u001B[0m\u001B[0m\n\u001B[1;32m-> 3356\u001B[1;33m         \u001B[0mbox\u001B[0m \u001B[1;33m=\u001B[0m \u001B[0mself\u001B[0m\u001B[1;33m.\u001B[0m\u001B[0m_parser\u001B[0m\u001B[1;33m.\u001B[0m\u001B[0mparse\u001B[0m\u001B[1;33m(\u001B[0m\u001B[0ms\u001B[0m\u001B[1;33m,\u001B[0m \u001B[0mfont_output\u001B[0m\u001B[1;33m,\u001B[0m \u001B[0mfontsize\u001B[0m\u001B[1;33m,\u001B[0m \u001B[0mdpi\u001B[0m\u001B[1;33m)\u001B[0m\u001B[1;33m\u001B[0m\u001B[1;33m\u001B[0m\u001B[0m\n\u001B[0m\u001B[0;32m   3357\u001B[0m         \u001B[0mfont_output\u001B[0m\u001B[1;33m.\u001B[0m\u001B[0mset_canvas_size\u001B[0m\u001B[1;33m(\u001B[0m\u001B[0mbox\u001B[0m\u001B[1;33m.\u001B[0m\u001B[0mwidth\u001B[0m\u001B[1;33m,\u001B[0m \u001B[0mbox\u001B[0m\u001B[1;33m.\u001B[0m\u001B[0mheight\u001B[0m\u001B[1;33m,\u001B[0m \u001B[0mbox\u001B[0m\u001B[1;33m.\u001B[0m\u001B[0mdepth\u001B[0m\u001B[1;33m)\u001B[0m\u001B[1;33m\u001B[0m\u001B[1;33m\u001B[0m\u001B[0m\n\u001B[0;32m   3358\u001B[0m         \u001B[1;32mreturn\u001B[0m \u001B[0mfont_output\u001B[0m\u001B[1;33m.\u001B[0m\u001B[0mget_results\u001B[0m\u001B[1;33m(\u001B[0m\u001B[0mbox\u001B[0m\u001B[1;33m)\u001B[0m\u001B[1;33m\u001B[0m\u001B[1;33m\u001B[0m\u001B[0m\n",
      "\u001B[1;32mc:\\users\\luka\\appdata\\local\\programs\\python\\python39\\lib\\site-packages\\matplotlib\\mathtext.py\u001B[0m in \u001B[0;36mparse\u001B[1;34m(self, s, fonts_object, fontsize, dpi)\u001B[0m\n\u001B[0;32m   2609\u001B[0m             \u001B[0mresult\u001B[0m \u001B[1;33m=\u001B[0m \u001B[0mself\u001B[0m\u001B[1;33m.\u001B[0m\u001B[0m_expression\u001B[0m\u001B[1;33m.\u001B[0m\u001B[0mparseString\u001B[0m\u001B[1;33m(\u001B[0m\u001B[0ms\u001B[0m\u001B[1;33m)\u001B[0m\u001B[1;33m\u001B[0m\u001B[1;33m\u001B[0m\u001B[0m\n\u001B[0;32m   2610\u001B[0m         \u001B[1;32mexcept\u001B[0m \u001B[0mParseBaseException\u001B[0m \u001B[1;32mas\u001B[0m \u001B[0merr\u001B[0m\u001B[1;33m:\u001B[0m\u001B[1;33m\u001B[0m\u001B[1;33m\u001B[0m\u001B[0m\n\u001B[1;32m-> 2611\u001B[1;33m             raise ValueError(\"\\n\".join([\"\",\n\u001B[0m\u001B[0;32m   2612\u001B[0m                                         \u001B[0merr\u001B[0m\u001B[1;33m.\u001B[0m\u001B[0mline\u001B[0m\u001B[1;33m,\u001B[0m\u001B[1;33m\u001B[0m\u001B[1;33m\u001B[0m\u001B[0m\n\u001B[0;32m   2613\u001B[0m                                         \u001B[1;34m\" \"\u001B[0m \u001B[1;33m*\u001B[0m \u001B[1;33m(\u001B[0m\u001B[0merr\u001B[0m\u001B[1;33m.\u001B[0m\u001B[0mcolumn\u001B[0m \u001B[1;33m-\u001B[0m \u001B[1;36m1\u001B[0m\u001B[1;33m)\u001B[0m \u001B[1;33m+\u001B[0m \u001B[1;34m\"^\"\u001B[0m\u001B[1;33m,\u001B[0m\u001B[1;33m\u001B[0m\u001B[1;33m\u001B[0m\u001B[0m\n",
      "\u001B[1;31mValueError\u001B[0m: \n\\alph   a=0.2\n^\nUnknown symbol: \\alph, found '\\'  (at char 0), (line:1, col:1)"
     ]
    },
    {
     "data": {
      "text/plain": "<Figure size 432x288 with 1 Axes>"
     },
     "metadata": {
      "needs_background": "light"
     },
     "output_type": "display_data"
    }
   ],
   "source": [
    "#Q2\n",
    "alphas = np.linspace(0.2, 1, 5)\n",
    "beta = np.array([0.4, 0.6,0.8, 1])\n",
    "param = [(a, beta*a) for a in alphas]\n",
    "\n",
    "c_rcn = []\n",
    "c_brcn = []\n",
    "\n",
    "for alpha, betas in param:\n",
    "    for beta in betas:\n",
    "        for fun in [f, g]:\n",
    "            res = minimize(fun, 0, args=(alpha, beta), method='COBYLA')\n",
    "            if res.success:\n",
    "                c = res.x\n",
    "                if fun == f:\n",
    "                    #print('Minimum found! for alpha={:.1f}, beta={:.1f}'.format(alpha, beta))\n",
    "                    #print('Coupon rate or RCN={:.4f}'.format(c))\n",
    "                    c_rcn.append(float(c))\n",
    "                elif fun==g:\n",
    "                    #print('Minimum found! for alpha={:.1f}, beta={:.1f}'.format(alpha, beta))\n",
    "                    #print('Coupon rate for BRCN={:.4f}'.format(c))\n",
    "                    c_brcn.append(float(c))\n",
    "            else: print('No minimum')\n",
    "\n",
    "\n",
    "c_rcn = np.array(c_rcn)\n",
    "c_brcn = np.array(c_brcn)\n",
    "c_rcn = c_rcn.reshape(alphas.shape[0], 4)\n",
    "c_brcn = c_brcn.reshape(alphas.shape[0], 4)\n",
    "\n",
    "i =0\n",
    "for ((alpha, betas), c) in zip(param, c_brcn):\n",
    "    plt.plot(betas, c, label=r'$\\alph   a={:.1f}$'.format(alpha))\n",
    "    plt.scatter(alpha, c_rcn[i, 0])\n",
    "    plt.title('Par Coupon Rate for (Barrier) RCN\\nfor varying '+r'$\\alpha$ and $\\beta$')\n",
    "    plt.ylabel('Par Coupon Rate')\n",
    "    plt.xlabel(r'$\\beta$')\n",
    "    #plt.plot(betas)\n",
    "    plt.legend()\n",
    "    i += 1"
   ],
   "metadata": {
    "collapsed": false,
    "pycharm": {
     "name": "#%%\n"
    }
   }
  },
  {
   "cell_type": "code",
   "execution_count": 9,
   "outputs": [
    {
     "name": "stdout",
     "output_type": "stream",
     "text": [
      "Minimum found!\n",
      "[1.]\n",
      "0.8113703313068837\n"
     ]
    }
   ],
   "source": [
    "#Q3\n",
    "c = 0.1\n",
    "def f(a, *arg):\n",
    "    c, _ = arg\n",
    "    price  = note.price_rcn(alpha=a, c=c)\n",
    "    return (1 - alpha - price)**2\n",
    "\n",
    "\n",
    "const =( {'type': 'ineq', 'fun': lambda x: x - 0},\n",
    "     {'type': 'ineq', 'fun': lambda x: 1 - x})\n",
    "\n",
    "res = minimize(f, 0.5, args=(c, 0), method='SLSQP', constraints=const)\n",
    "if res.success:\n",
    "    print('Minimum found!')\n",
    "    a = res.x\n",
    "    print(a)\n",
    "else:\n",
    "    print('no minimum')\n",
    "\n",
    "print(note.price_rcn(a, c))"
   ],
   "metadata": {
    "collapsed": false,
    "pycharm": {
     "name": "#%%\n"
    }
   }
  },
  {
   "cell_type": "code",
   "execution_count": 10,
   "outputs": [
    {
     "name": "stdout",
     "output_type": "stream",
     "text": [
      "5\n"
     ]
    }
   ],
   "source": [],
   "metadata": {
    "collapsed": false,
    "pycharm": {
     "name": "#%%\n"
    }
   }
  }
 ],
 "metadata": {
  "kernelspec": {
   "display_name": "Python 3",
   "language": "python",
   "name": "python3"
  },
  "language_info": {
   "codemirror_mode": {
    "name": "ipython",
    "version": 2
   },
   "file_extension": ".py",
   "mimetype": "text/x-python",
   "name": "python",
   "nbconvert_exporter": "python",
   "pygments_lexer": "ipython2",
   "version": "2.7.6"
  }
 },
 "nbformat": 4,
 "nbformat_minor": 0
}