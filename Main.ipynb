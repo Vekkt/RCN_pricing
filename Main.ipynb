{
 "cells": [
  {
   "cell_type": "code",
   "execution_count": 1,
   "metadata": {
    "collapsed": true
   },
   "outputs": [],
   "source": [
    "import numpy as np\n",
    "from binomial import Binomial\n",
    "from calibration import calibration\n",
    "from rcn import rcn\n",
    "import statsmodels.formula.api as smf\n",
    "from scipy.optimize import minimize"
   ]
  },
  {
   "cell_type": "code",
   "execution_count": 2,
   "outputs": [
    {
     "name": "stdout",
     "output_type": "stream",
     "text": [
      "Interest rate  -0.0078\n",
      "Dividend yield 0.0278\n",
      "------------------------------\n",
      "Minimum found!\n",
      "Func value     11991.8516\n",
      "Up             1.0564\n",
      "Down           0.9412\n",
      "------------------------------\n"
     ]
    },
    {
     "data": {
      "text/plain": "<Figure size 432x288 with 1 Axes>",
      "image/png": "[encoded data removed]"
     },
     "metadata": {
      "needs_background": "light"
     },
     "output_type": "display_data"
    }
   ],
   "source": [
    "\"\"\"Run callibration file and return the interest rate, div yield, u and d\"\"\"\n",
    "r, y, u, d = calibration()"
   ],
   "metadata": {
    "collapsed": false,
    "pycharm": {
     "name": "#%%\n"
    }
   }
  },
  {
   "cell_type": "code",
   "execution_count": 3,
   "outputs": [],
   "source": [
    "#Q1)\n",
    "dt = 1/12\n",
    "i0 = 11118\n",
    "c = 0.1"
   ],
   "metadata": {
    "collapsed": false,
    "pycharm": {
     "name": "#%%%\n"
    }
   }
  },
  {
   "cell_type": "code",
   "execution_count": 4,
   "outputs": [
    {
     "name": "stdout",
     "output_type": "stream",
     "text": [
      "Price of simple RCN 1.9113\n",
      "Price of barrier RCN 1.9398\n"
     ]
    }
   ],
   "source": [
    "note  = rcn(r, dt, i0, y, u, d)\n",
    "RCN = note.price_rcn(alpha=1, c=c)\n",
    "BRCN = note.price_brcn(alpha=1, beta=0.8, c=c)\n",
    "print('Price of simple RCN {:.4f}\\nPrice of barrier RCN {:.4f}'.format(RCN, BRCN))"
   ],
   "metadata": {
    "collapsed": false,
    "pycharm": {
     "name": "#%%\n"
    }
   }
  },
  {
   "cell_type": "code",
   "execution_count": 16,
   "outputs": [
    {
     "name": "stdout",
     "output_type": "stream",
     "text": [
      "Minimum found!\n",
      "Minimum found!\n",
      "Par coupon rate forBRCN =2.21%\n"
     ]
    }
   ],
   "source": [
    "def f(c, *arg):\n",
    "    al, _ = arg\n",
    "    price  = note.price_rcn(alpha=al, c=c)\n",
    "    return (1 - price)**2\n",
    "\n",
    "def g(c, *arg):\n",
    "    al, bt = arg\n",
    "    #print(str(eval(str(note.price_) + type)))\n",
    "    price  = note.price_brcn(alpha=al, beta=beta, c=c)\n",
    "    return (1 - price)**2\n",
    "\n",
    "\n",
    "#res = minimize(f, 0, args=(alpha, beta), method='COBYLA')\n",
    "#if res.success:\n",
    "#    print('Minimum found!')\n",
    "#    c = res.x\n",
    "#    print('Par coupon rate for RCN={:.2%}'.format(c))\n",
    "alpha = 1\n",
    "beta= 0.8\n",
    "for fun in [f, g]:\n",
    "    res = minimize(fun, 0, args=(alpha, beta), method='COBYLA')\n",
    "    if res.success:\n",
    "        print('Minimum found!')\n",
    "        c = res.x\n",
    "        #print(str(fun))\n",
    "        if fun == f:\n",
    "            type='RCN'\n",
    "        elif fun==g:\n",
    "            type = 'BRCN'\n",
    "            print('Par coupon rate for'+str(type)+' ={:.2%}'.format(c))"
   ],
   "metadata": {
    "collapsed": false,
    "pycharm": {
     "name": "#%%\n"
    }
   }
  },
  {
   "cell_type": "code",
   "execution_count": null,
   "outputs": [],
   "source": [
    "alpha = np.array([0.5, 0.75, 1])\n",
    "beta = [b*alpha for b in []]\n"
   ],
   "metadata": {
    "collapsed": false,
    "pycharm": {
     "name": "#%%\n"
    }
   }
  }
 ],
 "metadata": {
  "kernelspec": {
   "display_name": "Python 3",
   "language": "python",
   "name": "python3"
  },
  "language_info": {
   "codemirror_mode": {
    "name": "ipython",
    "version": 2
   },
   "file_extension": ".py",
   "mimetype": "text/x-python",
   "name": "python",
   "nbconvert_exporter": "python",
   "pygments_lexer": "ipython2",
   "version": "2.7.6"
  }
 },
 "nbformat": 4,
 "nbformat_minor": 0
}