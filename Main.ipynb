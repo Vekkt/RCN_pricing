{
 "cells": [
  {
   "cell_type": "code",
   "execution_count": 1,
   "metadata": {
    "collapsed": true
   },
   "outputs": [],
   "source": [
    "import numpy as np\n",
    "from binomial import Binomial\n",
    "from calibration import calibration\n",
    "from rcn import rcn\n",
    "import statsmodels.formula.api as smf\n",
    "from scipy.optimize import minimize\n",
    "import matplotlib.pyplot as plt\n",
    "from tqdm import tqdm"
   ]
  },
  {
   "cell_type": "code",
   "execution_count": 2,
   "outputs": [
    {
     "name": "stdout",
     "output_type": "stream",
     "text": [
      "Interest rate  -0.0078\n",
      "Dividend yield 0.0278\n",
      "------------------------------\n",
      "Minimum found!\n",
      "Func value     0.2349\n",
      "Up             1.0826\n",
      "Down           0.9685\n",
      "------------------------------\n",
      "               simc      Call         simp       Put\n",
      "Strike                                              \n",
      "12000    381.425584   381.525  1662.278436  1662.321\n",
      "11800    420.498768   420.599  1499.785171  1499.822\n",
      "11600    493.250207   493.332  1370.970162  1370.990\n",
      "11400    571.298153   571.380  1247.451659  1247.470\n",
      "11200    649.346099   649.428  1123.933157  1123.951\n",
      "11000    727.394045   727.476  1000.414655  1000.440\n",
      "10800    805.441991   805.524   876.896152   876.917\n",
      "10600    883.489937   883.572   753.377650   753.399\n",
      "10400    991.348798   991.344   659.670062   659.605\n",
      "10200   1114.867300  1114.862   581.622116   581.557\n",
      "10000   1238.385803  1238.381   503.574170   503.509\n",
      "9800    1361.904305  1361.900   425.526223   425.461\n",
      "9600    1485.422808  1485.422   347.478277   347.413\n",
      "9400    1612.914183  1612.790   273.403204   273.219\n",
      "9200    1775.407448  1775.280   234.330020   234.146\n",
      "9000    1937.900712  1937.781   195.256836   195.073\n"
     ]
    },
    {
     "data": {
      "text/plain": "<Figure size 432x288 with 1 Axes>",
      "image/png": "[encoded data removed]"
     },
     "metadata": {
      "needs_background": "light"
     },
     "output_type": "display_data"
    }
   ],
   "source": [
    "\"\"\"Run callibration file and return the interest rate, div yield, u and d\"\"\"\n",
    "r, y, u, d = calibration()"
   ],
   "metadata": {
    "collapsed": false,
    "pycharm": {
     "name": "#%%\n"
    }
   }
  },
  {
   "cell_type": "code",
   "execution_count": 3,
   "outputs": [],
   "source": [
    "#Q1)\n",
    "T = 12\n",
    "dt = 1/12\n",
    "i0 = 11118\n",
    "c = 0.1"
   ],
   "metadata": {
    "collapsed": false,
    "pycharm": {
     "name": "#%%%\n"
    }
   }
  },
  {
   "cell_type": "code",
   "execution_count": 4,
   "outputs": [
    {
     "name": "stdout",
     "output_type": "stream",
     "text": [
      "Price of simple RCN 0.8114\n",
      "Price of barrier RCN 0.8454\n"
     ]
    }
   ],
   "source": [
    "note  = rcn(r, dt, i0, y, u, d, c, T=12, q=None)\n",
    "RCN = note.price_rcn(alpha=1, c=c)\n",
    "BRCN = note.price_brcn(alpha=1, beta=0.8, c=c)\n",
    "print('Price of simple RCN {:.4f}\\nPrice of barrier RCN {:.4f}'.format(RCN, BRCN))"
   ],
   "metadata": {
    "collapsed": false,
    "pycharm": {
     "name": "#%%\n"
    }
   }
  },
  {
   "cell_type": "code",
   "execution_count": 5,
   "outputs": [],
   "source": [
    "# def f(c, *arg):\n",
    "#     al, _ = arg\n",
    "#     price  = note.price_rcn(alpha=al, c=c)\n",
    "#     return (1 - price)**2\n",
    "#\n",
    "# def g(c, *arg):\n",
    "#     al, bt = arg\n",
    "#     #print(str(eval(str(note.price_) + type)))\n",
    "#     price  = note.price_brcn(alpha=al, beta=beta, c=c)\n",
    "#     return (1 - price)**2\n",
    "#\n",
    "# alpha = 1\n",
    "# beta= 0.8\n",
    "#\n",
    "# for fun in [f, g]:\n",
    "#     res = minimize(fun, 0, args=(alpha, beta), method='COBYLA')\n",
    "#     if res.success:\n",
    "#         print('Minimum found!')\n",
    "#         c = res.x\n",
    "#         if fun == f:\n",
    "#             type = 'RCN'\n",
    "#         elif fun==g:\n",
    "#             type = 'BRCN'\n",
    "#         print('Par coupon rate for '+str(type)+' c={:.2%}'.format(c))\n",
    "#\n",
    "#"
   ],
   "metadata": {
    "collapsed": false,
    "pycharm": {
     "name": "#%%\n"
    }
   }
  },
  {
   "cell_type": "code",
   "execution_count": 6,
   "outputs": [],
   "source": [
    "# #Q2\n",
    "# alphas = np.linspace(0.2, 1, 5)\n",
    "# beta = np.array([0.4, 0.6,0.8, 1])\n",
    "# param = [(a, beta*a) for a in alphas]\n",
    "#\n",
    "# c_rcn = []\n",
    "# c_brcn = []\n",
    "#\n",
    "# for alpha, betas in param:\n",
    "#     for beta in betas:\n",
    "#         for fun in [f, g]:\n",
    "#             res = minimize(fun, 0, args=(alpha, beta), method='COBYLA')\n",
    "#             if res.success:\n",
    "#                 c = res.x\n",
    "#                 if fun == f:\n",
    "#                     #print('Minimum found! for alpha={:.1f}, beta={:.1f}'.format(alpha, beta))\n",
    "#                     #print('Coupon rate or RCN={:.4f}'.format(c))\n",
    "#                     c_rcn.append(float(c))\n",
    "#                 elif fun==g:\n",
    "#                     #print('Minimum found! for alpha={:.1f}, beta={:.1f}'.format(alpha, beta))\n",
    "#                     #print('Coupon rate for BRCN={:.4f}'.format(c))\n",
    "#                     c_brcn.append(float(c))\n",
    "#             else: print('No minimum')\n",
    "#\n",
    "#\n",
    "# c_rcn = np.array(c_rcn)\n",
    "# c_brcn = np.array(c_brcn)\n",
    "# c_rcn = c_rcn.reshape(alphas.shape[0], 4)\n",
    "# c_brcn = c_brcn.reshape(alphas.shape[0], 4)\n",
    "#\n",
    "# i =0\n",
    "# for ((alpha, betas), c) in zip(param, c_brcn):\n",
    "#     plt.plot(betas, c, label=r'$\\alph   a={:.1f}$'.format(alpha))\n",
    "#     plt.scatter(alpha, c_rcn[i, 0])\n",
    "#     plt.title('Par Coupon Rate for (Barrier) RCN\\nfor varying '+r'$\\alpha$ and $\\beta$')\n",
    "#     plt.ylabel('Par Coupon Rate')\n",
    "#     plt.xlabel(r'$\\beta$')\n",
    "#     #plt.plot(betas)\n",
    "#     plt.legend()\n",
    "#     i += 1\n",
    "#"
   ],
   "metadata": {
    "collapsed": false,
    "pycharm": {
     "name": "#%%\n"
    }
   }
  },
  {
   "cell_type": "code",
   "execution_count": 7,
   "outputs": [],
   "source": [
    "# #Q3\n",
    "# c = 0.1\n",
    "# def f(a, *arg):\n",
    "#     c, _ = arg\n",
    "#     price  = note.price_rcn(alpha=a, c=c)\n",
    "#     return (1 - alpha - price)**2\n",
    "#\n",
    "#\n",
    "# const =( {'type': 'ineq', 'fun': lambda x: x - 0},\n",
    "#      {'type': 'ineq', 'fun': lambda x: 1 - x})\n",
    "#\n",
    "# res = minimize(f, 0.5, args=(c, 0), method='SLSQP', constraints=const)\n",
    "# if res.success:\n",
    "#     print('Minimum found!')\n",
    "#     a = res.x\n",
    "#     print(a)\n",
    "# else:\n",
    "#     print('no minimum')\n",
    "#\n",
    "# print(note.price_rcn(a, c))"
   ],
   "metadata": {
    "collapsed": false,
    "pycharm": {
     "name": "#%%\n"
    }
   }
  },
  {
   "cell_type": "code",
   "execution_count": 8,
   "outputs": [
    {
     "name": "stdout",
     "output_type": "stream",
     "text": [
      "Price of callable simple RCN 0.8111\n",
      "Price of callable barrier RCN 0.8366\n"
     ]
    }
   ],
   "source": [
    "dates = [i for i in range(int(T/dt)+1)]\n",
    "alpha = 1\n",
    "c = 0.1\n",
    "beta = 0.8\n",
    "dates = [j for j in range(1, T)]\n",
    "RCN = note.price_rcn(alpha=alpha, c=c, dates=dates)\n",
    "BRCN = note.price_brcn(alpha=alpha, c=c, beta=0.8, dates=dates)\n",
    "print('Price of callable simple RCN {:.4f}\\nPrice of callable barrier RCN {:.4f}'.format(RCN, BRCN))"
   ],
   "metadata": {
    "collapsed": false,
    "pycharm": {
     "name": "#%%\n"
    }
   }
  },
  {
   "cell_type": "code",
   "execution_count": 150,
   "outputs": [
    {
     "name": "stderr",
     "output_type": "stream",
     "text": [
      "100%|██████████| 10/10 [00:23<00:00,  2.37s/it]\n"
     ]
    }
   ],
   "source": [
    "par_price = 1\n",
    "\n",
    "def f(c, *args):\n",
    "    alpha, beta, type, dates = args\n",
    "    if type == 'RCN': p = note.price_rcn(alpha, c, dates)\n",
    "    if type == 'BRCN': p = note.price_brcn(alpha, beta, c, dates)\n",
    "    return (par_price - p) ** 2\n",
    "\n",
    "cons = ({'type': 'ineq', 'fun': lambda x: 1 - x},\n",
    "        {'type': 'ineq', 'fun': lambda x: x })\n",
    "\n",
    "\n",
    "rates = [0.4,0.6,0.8,1]\n",
    "alphas = np.linspace(0.6, 1, 10)\n",
    "betas = np.outer(alphas, rates)\n",
    "\n",
    "rcn_c = []\n",
    "brcn_c = np.zeros_like(betas)\n",
    "\n",
    "for i, b in enumerate(tqdm(betas)):\n",
    "    alpha = alphas[i]\n",
    "    res_RCN = minimize(f, 0, args=(alpha, beta, 'RCN', dates), constraints=cons)\n",
    "    rcn_c.append(res_RCN.x[0]*100)\n",
    "    for j, beta in enumerate(b):\n",
    "        res_BRCN = minimize(f, 0, args=(alpha, beta, 'BRCN', dates), constraints=cons)\n",
    "        brcn_c[i,j] = res_BRCN.x[0]*100"
   ],
   "metadata": {
    "collapsed": false,
    "pycharm": {
     "name": "#%%\n"
    }
   }
  },
  {
   "cell_type": "code",
   "execution_count": 151,
   "outputs": [
    {
     "data": {
      "text/plain": "<Figure size 432x288 with 1 Axes>",
      "image/png": "[encoded data removed]"
     },
     "metadata": {
      "needs_background": "light"
     },
     "output_type": "display_data"
    }
   ],
   "source": [
    "plt.plot(alphas, rcn_c)\n",
    "for c in brcn_c.T:\n",
    "    plt.plot(alphas, c)\n",
    "plt.xlabel('alpha')\n",
    "plt.ylabel('par coupon rate (%)')\n",
    "plt.legend(['RCN'] + [r'beta = {}$\\alpha$'.format(r) for r in rates])\n",
    "plt.show()"
   ],
   "metadata": {
    "collapsed": false,
    "pycharm": {
     "name": "#%%\n"
    }
   }
  },
  {
   "cell_type": "code",
   "execution_count": 138,
   "outputs": [
    {
     "name": "stderr",
     "output_type": "stream",
     "text": [
      "  0%|          | 0/15 [00:00<?, ?it/s]c:\\users\\luka\\appdata\\local\\programs\\python\\python39\\lib\\site-packages\\scipy\\optimize\\_minimize.py:538: RuntimeWarning: Method TNC cannot handle constraints.\n",
      "  warn('Method %s cannot handle constraints.' % method,\n",
      "100%|██████████| 15/15 [00:01<00:00, 11.76it/s]\n",
      "100%|██████████| 15/15 [00:05<00:00,  2.65it/s]\n",
      "100%|██████████| 15/15 [00:01<00:00, 12.34it/s]\n",
      "100%|██████████| 15/15 [00:01<00:00, 12.25it/s]\n"
     ]
    },
    {
     "name": "stdout",
     "output_type": "stream",
     "text": [
      "[0.9]\n",
      "[0.9]\n",
      "[0.9]\n",
      "[0.9]\n",
      "[0.9]\n",
      "[0.9]\n",
      "[0.9]\n",
      "[0.9]\n",
      "[0.9]\n",
      "[0.9]\n",
      "[0.9]\n",
      "[0.9]\n",
      "[0.9]\n",
      "[0.9]\n",
      "[0.9]\n",
      "[0.58333981]\n",
      "[0.78239983]\n",
      "[0.91241532]\n",
      "[0.9]\n",
      "[0.9]\n",
      "[0.9]\n",
      "[0.9]\n",
      "[0.9]\n",
      "[0.9]\n",
      "[0.9]\n",
      "[0.9]\n",
      "[0.9]\n",
      "[0.9]\n",
      "[0.9]\n",
      "[0.9]\n",
      "[0.5]\n",
      "[0.5]\n",
      "[0.5]\n",
      "[0.5]\n",
      "[0.5]\n",
      "[0.5]\n",
      "[0.5]\n",
      "[0.5]\n",
      "[0.5]\n",
      "[0.5]\n",
      "[0.5]\n",
      "[0.5]\n",
      "[0.5]\n",
      "[0.5]\n",
      "[0.5]\n",
      "[0.5]\n",
      "[0.5]\n",
      "[0.5]\n",
      "[0.5]\n",
      "[0.5]\n",
      "[0.5]\n",
      "[0.5]\n",
      "[0.5]\n",
      "[0.5]\n",
      "[0.5]\n",
      "[0.5]\n",
      "[0.5]\n",
      "[0.5]\n",
      "[0.5]\n",
      "[0.5]\n"
     ]
    }
   ],
   "source": [
    "def h(alpha, *args):\n",
    "    c, r, type, dates = args\n",
    "    if type == 'RCN': p = note.price_rcn(alpha, c, dates)\n",
    "    if type == 'BRCN': p = note.price_brcn(alpha, r*alpha, c, dates)\n",
    "    return (par_price - p) ** 2\n",
    "\n",
    "\n",
    "coupons = np.linspace(0, 0.30, 15)\n",
    "rates = [0.4, 0.6, 0.8, 1]\n",
    "#betas = np.outer(coupons, rates)\n",
    "\n",
    "cons = ({'type': 'ineq', 'fun': lambda x: 1 - x},\n",
    "        {'type': 'ineq', 'fun': lambda x: x - 0.5})\n",
    "\n",
    "brcn_alpha = []\n",
    "\n",
    "for i, r in enumerate(rates):\n",
    "    row= []\n",
    "    for j, c in enumerate(tqdm(coupons)):\n",
    "        c = coupons[j]\n",
    "        if r==0.4 or r==0.6:\n",
    "            start = 0.9\n",
    "        else:\n",
    "            start=0.5\n",
    "        res_BRCN = minimize(h, start, args=(c, r, 'BRCN', dates), constraints=cons, method='TNC')\n",
    "        print(res_BRCN.x)\n",
    "        row.append(res_BRCN.x)\n",
    "        #print(res_BRCN.x[0])\n",
    "    # print(row)\n",
    "    brcn_alpha.append(row)\n",
    "# print(brcn_alpha)"
   ],
   "metadata": {
    "collapsed": false,
    "pycharm": {
     "name": "#%%\n"
    }
   }
  },
  {
   "cell_type": "code",
   "execution_count": 139,
   "outputs": [
    {
     "data": {
      "text/plain": "<Figure size 432x288 with 1 Axes>",
      "image/png": "[encoded data removed]"
     },
     "metadata": {
      "needs_background": "light"
     },
     "output_type": "display_data"
    }
   ],
   "source": [
    "for i, r in enumerate(rates):\n",
    "    plt.plot(coupons*100, brcn_alpha[i], label=r'$\\beta$={}$\\alpha$'.format(r))\n",
    "    plt.xlabel('coupon rate (%)')\n",
    "    plt.ylabel(r'Par $\\alpha$')\n",
    "\n",
    "plt.legend()\n",
    "plt.show()"
   ],
   "metadata": {
    "collapsed": false,
    "pycharm": {
     "name": "#%%\n"
    }
   }
  },
  {
   "cell_type": "code",
   "execution_count": 147,
   "outputs": [
    {
     "name": "stdout",
     "output_type": "stream",
     "text": [
      "1.0006503555439747\n",
      "1.0024372311788745\n",
      "1.0042241068137747\n",
      "1.0060109824486745\n",
      "1.0077978580835745\n",
      "1.0095847337184745\n",
      "1.0113716093533744\n",
      "1.0131584849882744\n",
      "1.0149453606231744\n",
      "1.0167322362580742\n",
      "1.0185191118929742\n",
      "1.020305987527874\n",
      "1.0220928631627741\n",
      "1.0238797387976741\n",
      "1.0256666144325741\n"
     ]
    }
   ],
   "source": [
    "c=0.05\n",
    "alpha=0.69\n",
    "r=1\n",
    "for i in range(15):\n",
    "    print(note.price_brcn(brcn_alpha[-1][i], r*np.array(brcn_alpha[-1][i]), coupons[i], dates))"
   ],
   "metadata": {
    "collapsed": false,
    "pycharm": {
     "name": "#%%\n"
    }
   }
  },
  {
   "cell_type": "code",
   "execution_count": 144,
   "outputs": [
    {
     "name": "stdout",
     "output_type": "stream",
     "text": [
      "0.9996460076965374\n"
     ]
    }
   ],
   "source": [
    "print(note.price_brcn(alpha, r*alpha, c, dates))"
   ],
   "metadata": {
    "collapsed": false,
    "pycharm": {
     "name": "#%%\n"
    }
   }
  },
  {
   "cell_type": "code",
   "execution_count": null,
   "outputs": [],
   "source": [],
   "metadata": {
    "collapsed": false,
    "pycharm": {
     "name": "#%%\n"
    }
   }
  }
 ],
 "metadata": {
  "kernelspec": {
   "display_name": "Python 3",
   "language": "python",
   "name": "python3"
  },
  "language_info": {
   "codemirror_mode": {
    "name": "ipython",
    "version": 2
   },
   "file_extension": ".py",
   "mimetype": "text/x-python",
   "name": "python",
   "nbconvert_exporter": "python",
   "pygments_lexer": "ipython2",
   "version": "2.7.6"
  }
 },
 "nbformat": 4,
 "nbformat_minor": 0
}