{
 "cells": [
  {
   "cell_type": "code",
   "execution_count": null,
   "metadata": {
    "collapsed": true,
    "pycharm": {
     "is_executing": true
    }
   },
   "outputs": [],
   "source": [
    "import numpy as np\n",
    "from binomial import Binomial\n",
    "from calibration import calibration\n",
    "from rcn import rcn\n",
    "import statsmodels.formula.api as smf\n",
    "from scipy.optimize import minimize\n",
    "import matplotlib.pyplot as plt\n",
    "from tqdm import tqdm"
   ]
  },
  {
   "cell_type": "code",
   "execution_count": null,
   "outputs": [],
   "source": [
    "\"\"\"Run callibration file and return the interest rate, div yield, u and d\"\"\"\n",
    "r, y, u, d = calibration()"
   ],
   "metadata": {
    "collapsed": false,
    "pycharm": {
     "name": "#%%\n",
     "is_executing": true
    }
   }
  },
  {
   "source": [
    "## Question 1"
   ],
   "cell_type": "markdown",
   "metadata": {}
  },
  {
   "cell_type": "code",
   "execution_count": null,
   "outputs": [],
   "source": [
    "#Sepcify other parameters\n",
    "\n",
    "T = 12\n",
    "dt = 1/T\n",
    "i0 = 11118\n",
    "c = 0.1\n",
    "alpha = 1\n",
    "beta = 0.8"
   ],
   "metadata": {
    "collapsed": false,
    "pycharm": {
     "name": "#%%%\n",
     "is_executing": true
    }
   }
  },
  {
   "cell_type": "code",
   "execution_count": null,
   "outputs": [],
   "source": [
    "#prints the price of the bond with given params using both implementations\n",
    "tree = Binomial(r, T, dt, i0, u, d, y)\n",
    "#Replicating portfolio price\n",
    "print('Price of the notes with given parameters are:')\n",
    "print('Replicating Portfolio\\n')\n",
    "print('{:10} : {:.4f}'.format(' rcn', tree.price_RCN(alpha, c)))\n",
    "print('{:10} : {:.4f}'.format('brcn', tree.price_RCN(alpha, c, beta)))\n",
    "#print('{:10} : {:.4f}'.format('bond', tree.price_bond(c*dt)))\n",
    "\n",
    "#Direct calculation price\n",
    "note = rcn(r, dt, i0, y, u, d, c, T)\n",
    "print('\\nDirect Calculation')\n",
    "p_rcn, rep_rcn = note.price_rcn(alpha=alpha, c=c, replication_strategy=True)\n",
    "p_brcn, rep_brcn = note.price_brcn(alpha=alpha, beta=beta, c=c, replication_strategy=True)\n",
    "print('{:10} : {:.4f}'.format(' rcn', p_rcn))\n",
    "print('{:10} : {:.4f}'.format('brcn', p_brcn))\n",
    "print('\\nReplicating Strategy of RCN:\\nRiskless={:.6f}\\nRisky={:.6f}'.format(rep_rcn[1], rep_rcn[0]))\n",
    "print('\\nReplicating Strategy of BRCN:\\nRiskless={:.6f}\\nRisky={:.6f}'.format(rep_brcn[1], rep_brcn[0]))\n",
    "#print('{:10} : {:.4f}'.format('bond', note.bond))\n"
   ],
   "metadata": {
    "collapsed": false,
    "pycharm": {
     "name": "#%%\n",
     "is_executing": true
    },
    "tags": []
   }
  },
  {
   "source": [
    "## Question 2"
   ],
   "cell_type": "markdown",
   "metadata": {}
  },
  {
   "cell_type": "code",
   "execution_count": null,
   "outputs": [],
   "source": [
    "par_price = 1\n",
    "\n",
    "def f(c, *args): #specify the function to be minimized\n",
    "    alpha, beta, type = args\n",
    "    if type == 'RCN': p = tree.price_RCN(alpha, c)\n",
    "    if type == 'BRCN': p = tree.price_RCN(alpha, c, beta)\n",
    "    return (par_price - p) ** 2\n",
    "\n",
    "res_RCN = minimize(f, 0, args=(alpha, beta, 'RCN'))\n",
    "res_BRCN = minimize(f, 0, args=(alpha, beta, 'BRCN'))\n",
    "\n",
    "print('alpha = {}, beta = {}'.format(alpha, beta))\n",
    "\n",
    "if res_RCN.success: print('Par coupon for RCN:  c = {:.2%}'.format(res_RCN.x[0]))\n",
    "if res_BRCN.success: print('Par coupon for BRCN: c = {:.2%}'.format(res_BRCN.x[0]))"
   ],
   "metadata": {
    "collapsed": false,
    "pycharm": {
     "name": "#%%\n",
     "is_executing": true
    }
   }
  },
  {
   "cell_type": "code",
   "execution_count": null,
   "outputs": [],
   "source": [
    "res_RCN = minimize(f, 0, args=(alpha, beta, 'RCN'))\n",
    "rates = [0.4,0.6,0.8,1]\n",
    "alphas = np.linspace(0.6, 1, 10)\n",
    "betas = np.outer(alphas, rates)\n",
    "\n",
    "cons = ({'type': 'ineq', 'fun': lambda x: 1 - x},   #constrains ensuring that par-alpha is within the [0, 1]\n",
    "        {'type': 'ineq', 'fun': lambda x: x - 0})\n",
    "\n",
    "rcn_c = []\n",
    "brcn_c = np.zeros_like(betas)\n",
    "\n",
    "for i, b in enumerate(tqdm(betas)): #runs loop for different rates and strikes\n",
    "    alpha = alphas[i]\n",
    "    res_RCN = minimize(f, 0, args=(alpha, beta, 'RCN'), constraints=cons)\n",
    "    rcn_c.append(res_RCN.x[0]*100)\n",
    "    for j, beta in enumerate(b):\n",
    "        res_BRCN = minimize(f, 0, args=(alpha, beta, 'BRCN'), constraints=cons)\n",
    "        brcn_c[i,j] = res_BRCN.x[0]*100"
   ],
   "metadata": {
    "collapsed": false,
    "pycharm": {
     "name": "#%%\n",
     "is_executing": true
    }
   }
  },
  {
   "cell_type": "code",
   "execution_count": null,
   "metadata": {
    "pycharm": {
     "is_executing": true
    }
   },
   "outputs": [],
   "source": [
    "plt.plot(alphas, rcn_c)\n",
    "for c in brcn_c.T:\n",
    "    plt.plot(alphas, c)\n",
    "\n",
    "r08_a = brcn_c.T[-2]\n",
    "r1_a = brcn_c.T[-1]\n",
    "\n",
    "plt.xlabel(r'$\\alpha$')\n",
    "plt.ylabel('Par Coupon Rate (%)')\n",
    "plt.legend(['RCN'] + [r'beta = {}$\\alpha$'.format(r) for r in rates])\n",
    "plt.title(r'Par-coupon rate as a function of $\\alpha$')\n",
    "plt.show()"
   ]
  },
  {
   "cell_type": "code",
   "execution_count": null,
   "metadata": {
    "pycharm": {
     "is_executing": true
    }
   },
   "outputs": [],
   "source": [
    "coupons = np.linspace(0, 0.09, 10)\n",
    "par_price = 1\n",
    "\n",
    "\n",
    "cons = ({'type': 'ineq', 'fun': lambda x: 1 - x}, #constraints on alpha\n",
    "        {'type': 'ineq', 'fun': lambda x: x - 0})\n",
    "\n",
    "def g(alpha, *args):\n",
    "    c, = args\n",
    "    return (par_price - tree.price_RCN(alpha, c)) ** 2\n",
    "\n",
    "alphas = []\n",
    "for c in coupons:\n",
    "    res = minimize(g, 1, args=(c), constraints=cons)\n",
    "    alphas.append(res.x[0])\n",
    "\n",
    "plt.plot(coupons*100, alphas)\n",
    "plt.xlabel('Coupon Rate (%)')\n",
    "plt.ylabel(r'Par-$\\alpha$')\n",
    "plt.title(r'Par-$\\alpha$ as a function of coupon rate for basic RCN')\n",
    "plt.show(tree.price_RCN(alpha, c))"
   ]
  },
  {
   "cell_type": "code",
   "execution_count": null,
   "outputs": [],
   "source": [
    "par_price = 1\n",
    "\n",
    "def h(alpha, *args):\n",
    "    c, rate = args\n",
    "    return (par_price - tree.price_RCN(alpha, c, rate*alpha)) ** 2\n",
    "\n",
    "alphas = np.linspace(0.6, 1, 20)\n",
    "coupons = np.linspace(0, 0.09, 10)\n",
    "rates = [0.4, 0.6, 0.8, 1]\n",
    "\n",
    "par_alph = np.zeros([len(rates), coupons.shape[0]])\n",
    "for n, r in enumerate(rates):\n",
    "    dist = np.zeros([alphas.shape[0], coupons.shape[0]])\n",
    "    for j, c in enumerate(tqdm(coupons)):\n",
    "        for i, a in enumerate(alphas):\n",
    "            dist[i, j] = h(a, c, r)\n",
    "    min_alpha_ind = np.argmin(dist, axis=0)\n",
    "    par_alph[n, :] = alphas[min_alpha_ind]"
   ],
   "metadata": {
    "collapsed": false,
    "pycharm": {
     "name": "#%%\n",
     "is_executing": true
    }
   }
  },
  {
   "cell_type": "code",
   "execution_count": null,
   "outputs": [],
   "source": [
    "cols = ['orange', 'green', 'red', 'purple']\n",
    "r08_c, r1_c = [], []\n",
    "for i, r in enumerate(rates):\n",
    "    if r == 0.8: r08_c = par_alph[i]\n",
    "    if r == 1.0: r1_c = par_alph[i]\n",
    "    plt.plot(coupons*100,  par_alph[i], label=r'$\\beta$={}$\\alpha$'.format(r), color=cols[i])\n",
    "    plt.xlabel('Coupon Rate (%)')\n",
    "    plt.ylabel(r'Par $\\alpha$')\n",
    "\n",
    "plt.title(r'Par-$\\alpha$ as a function of coupon rate for barrier RCN')\n",
    "plt.legend()\n",
    "plt.show()\n"
   ],
   "metadata": {
    "collapsed": false,
    "pycharm": {
     "name": "#%%\n",
     "is_executing": true
    }
   }
  },
  {
   "cell_type": "markdown",
   "source": [
    "#Q6-7-8"
   ],
   "metadata": {
    "collapsed": false,
    "pycharm": {
     "name": "#%% md\n"
    }
   }
  },
  {
   "cell_type": "code",
   "execution_count": null,
   "outputs": [],
   "source": [
    "#dates = [i for i in range(int(T/dt)+1)]\n",
    "alpha = 1\n",
    "c = 0.1\n",
    "beta = 0.8\n",
    "dates = [j for j in range(1, T)]\n",
    "RCN, rep1 = note.price_rcn(alpha=alpha, c=c, dates=dates, replication_strategy=True)\n",
    "BRCN, rep2 = note.price_brcn(alpha=alpha, c=c, beta=0.8, dates=dates, replication_strategy=True)\n",
    "print('Price of callable simple RCN {:.4f}\\nPrice of callable barrier RCN {:.4f}'.format(RCN, BRCN))\n",
    "p_rcn, rep_rcn = note.price_rcn(alpha=alpha, c=c, replication_strategy=True)\n",
    "\n",
    "print('\\nReplicating Strategy of callable RCN:\\nRiskless={:.6f}\\nRisky={:.6f}'.format(rep1[1], rep1[0]))\n",
    "print('\\nReplicating Strategy of calabe BRCN:\\nRiskless={:.6f}\\nRisky={:.6f}'.format(rep2[1], rep2[0]))"
   ],
   "metadata": {
    "collapsed": false,
    "pycharm": {
     "name": "#%%\n",
     "is_executing": true
    }
   }
  },
  {
   "cell_type": "code",
   "execution_count": null,
   "outputs": [],
   "source": [
    "par_price = 1\n",
    "\n",
    "def f(c, *args):\n",
    "    alpha, beta, type, dates = args\n",
    "    if type == 'RCN': p = note.price_rcn(alpha, c, dates)\n",
    "    if type == 'BRCN': p = note.price_brcn(alpha, beta, c, dates)\n",
    "    return (par_price - p) ** 2\n",
    "\n",
    "cons = ({'type': 'ineq', 'fun': lambda x: 1 - x},\n",
    "        {'type': 'ineq', 'fun': lambda x: x })\n",
    "\n",
    "\n",
    "rates = [0.4,0.6,0.8,1]\n",
    "alphas = np.linspace(0.6, 1, 10)\n",
    "betas = np.outer(alphas, rates)\n",
    "\n",
    "rcn_c = []\n",
    "brcn_c = np.zeros_like(betas)\n",
    "\n",
    "for i, b in enumerate(tqdm(betas)):\n",
    "    alpha = alphas[i]\n",
    "    res_RCN = minimize(f, 0, args=(alpha, beta, 'RCN', dates), constraints=cons)\n",
    "    rcn_c.append(res_RCN.x[0]*100)\n",
    "    for j, beta in enumerate(b):\n",
    "        res_BRCN = minimize(f, 0, args=(alpha, beta, 'BRCN', dates), constraints=cons)\n",
    "        brcn_c[i,j] = res_BRCN.x[0]*100"
   ],
   "metadata": {
    "collapsed": false,
    "pycharm": {
     "name": "#%%\n",
     "is_executing": true
    }
   }
  },
  {
   "cell_type": "code",
   "execution_count": null,
   "outputs": [],
   "source": [
    "\n",
    "alphas = np.linspace(0.6, 1, 10)\n",
    "plt.plot(alphas, rcn_c)\n",
    "for c in brcn_c.T:\n",
    "    plt.plot(alphas, c)\n",
    "plt.plot(alphas, r08_a)\n",
    "plt.plot(alphas, r1_a)\n",
    "plt.xlabel(r'$\\alpha$')\n",
    "plt.ylabel('Par Coupon rate (%)')\n",
    "plt.legend(['RCN'] + [r'beta = {}$\\alpha$'.format(r) for r in rates] + [r'(NC) $\\beta$ = 0.8$\\alpha$'] + [r'(NC) $\\beta$ = 1$\\alpha$'])\n",
    "plt.title(r'Par-coupon rate as a function of $\\alpha$ (callable)')\n",
    "plt.savefig('5_7.pdf')\n",
    "plt.show()"
   ],
   "metadata": {
    "collapsed": false,
    "pycharm": {
     "name": "#%%\n",
     "is_executing": true
    }
   }
  },
  {
   "source": [
    "Grid Search"
   ],
   "cell_type": "markdown",
   "metadata": {
    "collapsed": false,
    "pycharm": {
     "name": "#%% md\n"
    }
   }
  },
  {
   "cell_type": "code",
   "execution_count": null,
   "outputs": [],
   "source": [
    "#Grid search for finding par-alpha\n",
    "\n",
    "coupons = np.linspace(0., 0.12, 15)\n",
    "alphas = np.linspace(0.6, 1, 100)\n",
    "rates = [0.4, 0.6, 0.8, 1]\n",
    "\n",
    "par_alph = np.zeros([len(rates), coupons.shape[0]])\n",
    "\n",
    "for n, r in enumerate(rates):\n",
    "    dist = np.zeros([alphas.shape[0], coupons.shape[0]])\n",
    "    for j, c in enumerate(tqdm(coupons)):\n",
    "        for i, a in enumerate(alphas):\n",
    "            p = note.price_brcn(a, r*a, c, dates)\n",
    "            dist[i, j] = (1 - p)**2\n",
    "    min_alpha_ind = np.argmin(dist, axis=0)\n",
    "    par_alph[n, :] = alphas[min_alpha_ind]"
   ],
   "metadata": {
    "collapsed": false,
    "pycharm": {
     "name": "#%%\n",
     "is_executing": true
    }
   }
  },
  {
   "cell_type": "code",
   "execution_count": null,
   "outputs": [],
   "source": [
    "\n",
    "alphas = np.linspace(0.6, 1, 100)\n",
    "for i, r in enumerate(reversed(rates)):\n",
    "    plt.plot(coupons*100,  par_alph[i], label=r'$\\beta$={}$\\alpha$'.format(r))\n",
    "    plt.xlabel('Coupon Rate (%)')\n",
    "    plt.ylabel(r'Par $\\alpha$')\n",
    "\n",
    "plt.plot(np.linspace(0., 0.12, 10)*100, r08_c)\n",
    "plt.plot(np.linspace(0., 0.12, 10)*100, r1_c)\n",
    "plt.legend([r'$\\beta$={}$\\alpha$'.format(r) for r in rates] + [r'(NC) $\\beta$ = 0.8$\\alpha$'] + [r'(NC) $\\beta$ = 1$\\alpha$'])\n",
    "plt.title(r'Par-$\\alpha$ as a function of coupon rate for barrier RCN (callable)')\n",
    "plt.savefig('5_8.pdf')\n",
    "plt.show()"
   ],
   "metadata": {
    "collapsed": false,
    "pycharm": {
     "name": "#%%\n",
     "is_executing": true
    }
   }
  },
  {
   "cell_type": "code",
   "execution_count": null,
   "metadata": {
    "pycharm": {
     "is_executing": true
    }
   },
   "outputs": [],
   "source": []
  }
 ],
 "metadata": {
  "kernelspec": {
   "name": "python3",
   "language": "python",
   "display_name": "Python 3"
  },
  "language_info": {
   "codemirror_mode": {
    "name": "ipython",
    "version": 2
   },
   "file_extension": ".py",
   "mimetype": "text/x-python",
   "name": "python",
   "nbconvert_exporter": "python",
   "pygments_lexer": "ipython2",
   "version": "3.8.5"
  }
 },
 "nbformat": 4,
 "nbformat_minor": 0
}