{
 "cells": [
  {
   "cell_type": "code",
   "execution_count": 1,
   "metadata": {
    "collapsed": true
   },
   "outputs": [],
   "source": [
    "import numpy as np\n",
    "from binomial import Binomial\n",
    "from calibration import calibration\n",
    "from rcn import rcn\n",
    "import statsmodels.formula.api as smf\n",
    "from scipy.optimize import minimize\n",
    "import matplotlib.pyplot as plt\n",
    "from tqdm import tqdm"
   ]
  },
  {
   "cell_type": "code",
   "execution_count": 2,
   "outputs": [
    {
     "name": "stdout",
     "output_type": "stream",
     "text": [
      "Interest rate  -0.0078\n",
      "Dividend yield 0.0023\n",
      "------------------------------\n",
      "Minimum found!\n",
      "Func value     0.2349\n",
      "Up             1.0550\n",
      "Down           0.9437\n",
      "------------------------------\n",
      "               simc      Call         simp       Put\n",
      "Strike                                              \n",
      "12000    381.425592   381.525  1662.278373  1662.321\n",
      "11800    420.498776   420.599  1499.785108  1499.822\n",
      "11600    493.250227   493.332  1370.970111  1370.990\n",
      "11400    571.298174   571.380  1247.451609  1247.470\n",
      "11200    649.346120   649.428  1123.933106  1123.951\n",
      "11000    727.394066   727.476  1000.414604  1000.440\n",
      "10800    805.442012   805.524   876.896102   876.917\n",
      "10600    883.489958   883.572   753.377599   753.399\n",
      "10400    991.348836   991.344   659.670028   659.605\n",
      "10200   1114.867338  1114.862   581.622082   581.557\n",
      "10000   1238.385841  1238.381   503.574136   503.509\n",
      "9800    1361.904343  1361.900   425.526190   425.461\n",
      "9600    1485.422845  1485.422   347.478244   347.413\n",
      "9400    1612.914236  1612.790   273.403186   273.219\n",
      "9200    1775.407501  1775.280   234.330003   234.146\n",
      "9000    1937.900766  1937.781   195.256819   195.073\n"
     ]
    },
    {
     "name": "stderr",
     "output_type": "stream",
     "text": [
      "c:\\users\\luka\\appdata\\local\\programs\\python\\python39\\lib\\site-packages\\scipy\\optimize\\_minimize.py:538: RuntimeWarning: Method L-BFGS-B cannot handle constraints.\n",
      "  warn('Method %s cannot handle constraints.' % method,\n"
     ]
    },
    {
     "data": {
      "text/plain": "<Figure size 432x288 with 1 Axes>",
      "image/png": "[encoded data removed]"
     },
     "metadata": {
      "needs_background": "light"
     },
     "output_type": "display_data"
    }
   ],
   "source": [
    "\"\"\"Run callibration file and return the interest rate, div yield, u and d\"\"\"\n",
    "r, y, u, d = calibration()"
   ],
   "metadata": {
    "collapsed": false,
    "pycharm": {
     "name": "#%%\n"
    }
   }
  },
  {
   "source": [
    "## Question 1"
   ],
   "cell_type": "markdown",
   "metadata": {}
  },
  {
   "cell_type": "code",
   "execution_count": 3,
   "outputs": [],
   "source": [
    "T = 12\n",
    "dt = 1/T\n",
    "i0 = 11118\n",
    "c = 0.1\n",
    "alpha = 1\n",
    "beta = 0.8"
   ],
   "metadata": {
    "collapsed": false,
    "pycharm": {
     "name": "#%%%\n"
    }
   }
  },
  {
   "cell_type": "code",
   "execution_count": 4,
   "outputs": [
    {
     "name": "stdout",
     "output_type": "stream",
     "text": [
      " rcn       : 1.0117\n",
      "brcn       : 1.0443\n",
      "bond       : 1.1083\n",
      "\n",
      " rcn       : 1.0117\n",
      "brcn       : 1.0542\n",
      "bond       : 1.1083\n"
     ]
    }
   ],
   "source": [
    "tree = Binomial(r, T, dt, i0, u, d, y)\n",
    "\n",
    "print('{:10} : {:.4f}'.format(' rcn', tree.price_RCN(alpha, c)))\n",
    "print('{:10} : {:.4f}'.format('brcn', tree.price_RCN(alpha, c, beta)))\n",
    "print('{:10} : {:.4f}'.format('bond', tree.price_bond(c*dt)))\n",
    "\n",
    "print()\n",
    "note = rcn(r, dt, i0, y, u, d, c, T)\n",
    "print('{:10} : {:.4f}'.format(' rcn', note.price_rcn(alpha=alpha, c=c)))\n",
    "print('{:10} : {:.4f}'.format('brcn', note.price_brcn(alpha=alpha, beta=beta, c=c)))\n",
    "print('{:10} : {:.4f}'.format('bond', note.bond))\n"
   ],
   "metadata": {
    "collapsed": false,
    "pycharm": {
     "name": "#%%\n"
    },
    "tags": []
   }
  },
  {
   "source": [
    "## Question 2"
   ],
   "cell_type": "markdown",
   "metadata": {}
  },
  {
   "cell_type": "code",
   "execution_count": 25,
   "outputs": [
    {
     "name": "stdout",
     "output_type": "stream",
     "text": [
      "alpha = 1.00000001, beta = 1.0\n",
      "Par coupon for RCN:  c = 8.83%\n",
      "Par coupon for BRCN: c = 8.83%\n"
     ]
    }
   ],
   "source": [
    "par_price = 1\n",
    "\n",
    "def f(c, *args):\n",
    "    alpha, beta, type = args\n",
    "    if type == 'RCN': p = tree.price_RCN(alpha, c)\n",
    "    if type == 'BRCN': p = tree.price_RCN(alpha, c, beta)\n",
    "    return (par_price - p) ** 2\n",
    "\n",
    "res_RCN = minimize(f, 0, args=(alpha, beta, 'RCN'))\n",
    "res_BRCN = minimize(f, 0, args=(alpha, beta, 'BRCN'))\n",
    "print('alpha = {}, beta = {}'.format(alpha, beta))\n",
    "if res_RCN.success: print('Par coupon for RCN:  c = {:.2%}'.format(res_RCN.x[0]))\n",
    "if res_BRCN.success: print('Par coupon for BRCN: c = {:.2%}'.format(res_BRCN.x[0]))"
   ],
   "metadata": {
    "collapsed": false,
    "pycharm": {
     "name": "#%%\n"
    }
   }
  },
  {
   "cell_type": "code",
   "execution_count": 26,
   "outputs": [],
   "source": [
    "res_RCN = minimize(f, 0, args=(alpha, beta, 'RCN'))\n",
    "rates = [0.4,0.6,0.8,1]\n",
    "alphas = np.linspace(0.6, 1, 10)\n",
    "betas = np.outer(alphas, rates)\n",
    "\n",
    "cons = ({'type': 'ineq', 'fun': lambda x: 1 - x},\n",
    "        {'type': 'ineq', 'fun': lambda x: x - 0})\n",
    "\n",
    "rcn_c = []\n",
    "brcn_c = np.zeros_like(betas)\n",
    "\n",
    "for i, b in enumerate(tqdm(betas)):\n",
    "    alpha = alphas[i]\n",
    "    res_RCN = minimize(f, 0, args=(alpha, beta, 'RCN'), constraints=cons)\n",
    "    rcn_c.append(res_RCN.x[0]*100)\n",
    "    for j, beta in enumerate(b):\n",
    "        res_BRCN = minimize(f, 0, args=(alpha, beta, 'BRCN'), constraints=cons)\n",
    "        brcn_c[i,j] = res_BRCN.x[0]*100"
   ],
   "metadata": {
    "collapsed": false,
    "pycharm": {
     "name": "#%%\n"
    }
   }
  },
  {
   "cell_type": "code",
   "execution_count": 27,
   "metadata": {},
   "outputs": [
    {
     "data": {
      "text/plain": "<Figure size 432x288 with 1 Axes>",
      "image/png": "[encoded data removed]"
     },
     "metadata": {
      "needs_background": "light"
     },
     "output_type": "display_data"
    }
   ],
   "source": [
    "plt.plot(alphas, rcn_c)\n",
    "for c in brcn_c.T:\n",
    "    plt.plot(alphas, c)\n",
    "plt.xlabel('alpha')\n",
    "plt.ylabel('par coupon rate (%)')\n",
    "plt.legend(['RCN'] + [r'beta = {}$\\alpha$'.format(r) for r in rates])\n",
    "plt.show()"
   ]
  },
  {
   "cell_type": "code",
   "execution_count": 34,
   "metadata": {},
   "outputs": [
    {
     "data": {
      "text/plain": "<Figure size 432x288 with 1 Axes>",
      "image/png": "[encoded data removed]"
     },
     "metadata": {
      "needs_background": "light"
     },
     "output_type": "display_data"
    }
   ],
   "source": [
    "coupons = np.linspace(0, 0.09, 10)\n",
    "par_price = 1\n",
    "\n",
    "\n",
    "cons = ({'type': 'ineq', 'fun': lambda x: 1 - x},\n",
    "        {'type': 'ineq', 'fun': lambda x: x - 0})\n",
    "\n",
    "def g(alpha, *args):\n",
    "    c, = args\n",
    "    return (par_price - tree.price_RCN(alpha, c)) ** 2\n",
    "\n",
    "alphas = []\n",
    "for c in coupons:\n",
    "    res = minimize(g, 1, args=(c), constraints=cons)\n",
    "    alphas.append(res.x[0])\n",
    "\n",
    "plt.plot(coupons*100, alphas)\n",
    "plt.xlabel('coupon rate (%)')\n",
    "plt.ylabel('par alpha')\n",
    "plt.show(tree.price_RCN(alpha, c))"
   ]
  },
  {
   "cell_type": "code",
   "execution_count": 30,
   "outputs": [
    {
     "name": "stderr",
     "output_type": "stream",
     "text": [
      "100%|██████████| 10/10 [00:01<00:00,  7.77it/s]\n",
      "100%|██████████| 10/10 [00:01<00:00,  8.10it/s]\n",
      "100%|██████████| 10/10 [00:18<00:00,  1.83s/it]\n",
      "100%|██████████| 10/10 [00:21<00:00,  2.19s/it]\n"
     ]
    }
   ],
   "source": [
    "def h(alpha, *args):\n",
    "    c, rate = args\n",
    "    return (par_price - tree.price_RCN(alpha, c, rate*alpha)) ** 2\n",
    "\n",
    "\n",
    "coupons = np.linspace(0, 0.09, 10)\n",
    "rates = [0.4, 0.6, 0.8, 1]\n",
    "#betas = np.outer(coupons, rates)\n",
    "\n",
    "cons = ({'type': 'ineq', 'fun': lambda x: 1 - x},\n",
    "        {'type': 'ineq', 'fun': lambda x: x - 0})\n",
    "\n",
    "brcn_alpha = []\n",
    "\n",
    "for i, r in enumerate(rates):\n",
    "    row= []\n",
    "    for j, c in enumerate(tqdm(coupons)):\n",
    "        c = coupons[j]\n",
    "        if r==0.4 or r==0.6:\n",
    "            start = 1\n",
    "        else:\n",
    "            start=0.85\n",
    "        res_BRCN = minimize(h, start, args=(c, r), constraints=cons)\n",
    "        row.append(res_BRCN.x[0])\n",
    "        #print(res_BRCN.x[0])\n",
    "    # print(row)\n",
    "    brcn_alpha.append(row)\n",
    "# print(brcn_alpha)"
   ],
   "metadata": {
    "collapsed": false,
    "pycharm": {
     "name": "#%%\n"
    }
   }
  },
  {
   "cell_type": "code",
   "execution_count": 33,
   "outputs": [
    {
     "data": {
      "text/plain": "<Figure size 432x288 with 1 Axes>",
      "image/png": "[encoded data removed]"
     },
     "metadata": {
      "needs_background": "light"
     },
     "output_type": "display_data"
    }
   ],
   "source": [
    "plt.plot(coupons*100, alphas, label='RCN')\n",
    "\n",
    "for i, r in enumerate(rates):\n",
    "    plt.plot(coupons*100, brcn_alpha[i], label=r'$\\beta$={}$\\alpha$'.format(r))\n",
    "    plt.xlabel('coupon rate (%)')\n",
    "    plt.ylabel(r'Par $\\alpha$')\n",
    "\n",
    "plt.legend()\n",
    "plt.show()"
   ],
   "metadata": {
    "collapsed": false,
    "pycharm": {
     "name": "#%%\n"
    }
   }
  },
  {
   "cell_type": "markdown",
   "source": [
    "#Q6-7-8"
   ],
   "metadata": {
    "collapsed": false,
    "pycharm": {
     "name": "#%% md\n"
    }
   }
  },
  {
   "cell_type": "code",
   "execution_count": 35,
   "outputs": [
    {
     "name": "stdout",
     "output_type": "stream",
     "text": [
      "Price of callable simple RCN 0.9920\n",
      "Price of callable barrier RCN 1.0008\n"
     ]
    }
   ],
   "source": [
    "dates = [i for i in range(int(T/dt)+1)]\n",
    "alpha = 1\n",
    "c = 0.1\n",
    "beta = 0.8\n",
    "dates = [j for j in range(1, T)]\n",
    "RCN = note.price_rcn(alpha=alpha, c=c, dates=dates)\n",
    "BRCN = note.price_brcn(alpha=alpha, c=c, beta=0.8, dates=dates)\n",
    "print('Price of callable simple RCN {:.4f}\\nPrice of callable barrier RCN {:.4f}'.format(RCN, BRCN))"
   ],
   "metadata": {
    "collapsed": false,
    "pycharm": {
     "name": "#%%\n"
    }
   }
  },
  {
   "cell_type": "code",
   "execution_count": 36,
   "outputs": [
    {
     "name": "stderr",
     "output_type": "stream",
     "text": [
      "100%|██████████| 10/10 [00:14<00:00,  1.44s/it]\n"
     ]
    }
   ],
   "source": [
    "par_price = 1\n",
    "\n",
    "def f(c, *args):\n",
    "    alpha, beta, type, dates = args\n",
    "    if type == 'RCN': p = note.price_rcn(alpha, c, dates)\n",
    "    if type == 'BRCN': p = note.price_brcn(alpha, beta, c, dates)\n",
    "    return (par_price - p) ** 2\n",
    "\n",
    "cons = ({'type': 'ineq', 'fun': lambda x: 1 - x},\n",
    "        {'type': 'ineq', 'fun': lambda x: x })\n",
    "\n",
    "\n",
    "rates = [0.4,0.6,0.8,1]\n",
    "alphas = np.linspace(0.6, 1, 10)\n",
    "betas = np.outer(alphas, rates)\n",
    "\n",
    "rcn_c = []\n",
    "brcn_c = np.zeros_like(betas)\n",
    "\n",
    "for i, b in enumerate(tqdm(betas)):\n",
    "    alpha = alphas[i]\n",
    "    res_RCN = minimize(f, 0, args=(alpha, beta, 'RCN', dates), constraints=cons)\n",
    "    rcn_c.append(res_RCN.x[0]*100)\n",
    "    for j, beta in enumerate(b):\n",
    "        res_BRCN = minimize(f, 0, args=(alpha, beta, 'BRCN', dates), constraints=cons)\n",
    "        brcn_c[i,j] = res_BRCN.x[0]*100"
   ],
   "metadata": {
    "collapsed": false,
    "pycharm": {
     "name": "#%%\n"
    }
   }
  },
  {
   "cell_type": "code",
   "execution_count": 37,
   "outputs": [
    {
     "data": {
      "text/plain": "<Figure size 432x288 with 1 Axes>",
      "image/png": "[encoded data removed]"
     },
     "metadata": {
      "needs_background": "light"
     },
     "output_type": "display_data"
    }
   ],
   "source": [
    "plt.plot(alphas, rcn_c)\n",
    "for c in brcn_c.T:\n",
    "    plt.plot(alphas, c)\n",
    "plt.xlabel('alpha')\n",
    "plt.ylabel('par coupon rate (%)')\n",
    "plt.legend(['RCN'] + [r'beta = {}$\\alpha$'.format(r) for r in rates])\n",
    "plt.show()"
   ],
   "metadata": {
    "collapsed": false,
    "pycharm": {
     "name": "#%%\n"
    }
   }
  },
  {
   "cell_type": "markdown",
   "source": [
    "Optimization method does not work, we did grid search instead"
   ],
   "metadata": {
    "collapsed": false,
    "pycharm": {
     "name": "#%% md\n"
    }
   }
  },
  {
   "cell_type": "code",
   "execution_count": null,
   "outputs": [],
   "source": [
    "# def h(alpha, *args):\n",
    "#     c, r, type, dates = args\n",
    "#     if type == 'RCN': p = note.price_rcn(alpha, c, dates)\n",
    "#     if type == 'BRCN': p = note.price_brcn(alpha, r*alpha, c, dates)\n",
    "#     return (par_price - p) ** 2\n",
    "#\n",
    "#\n",
    "# coupons = np.linspace(0, 0.09, 15)\n",
    "# rates = [0.4, 0.6, 0.8, 1]\n",
    "# #betas = np.outer(coupons, rates)\n",
    "#\n",
    "# cons = ({'type': 'ineq', 'fun': lambda x: 1 - x},\n",
    "#         {'type': 'ineq', 'fun': lambda x: x - 0.5})\n",
    "#\n",
    "# brcn_alpha = []\n",
    "#\n",
    "# for i, r in enumerate(rates):\n",
    "#     row= []\n",
    "#     for j, c in enumerate(tqdm(coupons)):\n",
    "#         c = coupons[j]\n",
    "#         if r==0.4 or r==0.6:\n",
    "#             start = 0.7\n",
    "#         else:\n",
    "#             start=0.7\n",
    "#         res_BRCN = minimize(h, start, args=(c, r, 'BRCN', dates), constraints=cons)\n",
    "#         row.append(res_BRCN.x[0])\n",
    "#         #print(res_BRCN.x[0])\n",
    "#     # print(row)\n",
    "#     brcn_alpha.append(row)\n",
    "# # print(brcn_alpha)\n",
    "#"
   ],
   "metadata": {
    "collapsed": false,
    "pycharm": {
     "name": "#%%\n"
    }
   }
  },
  {
   "cell_type": "code",
   "execution_count": 108,
   "outputs": [],
   "source": [
    "# for i, r in enumerate(rates):\n",
    "#     plt.plot(coupons*100, brcn_alpha[i], label=r'$\\beta$={}$\\alpha$'.format(r))\n",
    "#     plt.xlabel('coupon rate (%)')\n",
    "#     plt.ylabel(r'Par $\\alpha$')\n",
    "#\n",
    "# plt.legend()\n",
    "# plt.show()"
   ],
   "metadata": {
    "collapsed": false,
    "pycharm": {
     "name": "#%%\n"
    }
   }
  },
  {
   "cell_type": "markdown",
   "source": [
    "Grid Search"
   ],
   "metadata": {
    "collapsed": false,
    "pycharm": {
     "name": "#%% md\n"
    }
   }
  },
  {
   "cell_type": "code",
   "execution_count": 109,
   "outputs": [
    {
     "name": "stderr",
     "output_type": "stream",
     "text": [
      "100%|██████████| 15/15 [01:04<00:00,  4.32s/it]\n",
      "100%|██████████| 15/15 [01:02<00:00,  4.15s/it]\n",
      "100%|██████████| 15/15 [01:07<00:00,  4.52s/it]\n",
      "100%|██████████| 15/15 [01:28<00:00,  5.91s/it]\n"
     ]
    }
   ],
   "source": [
    "coupons = np.linspace(0., 0.12, 15)\n",
    "alphas = np.linspace(0.6, 1, 100)\n",
    "rates = [0.4, 0.6, 0.8, 1]\n",
    "\n",
    "par_alph = np.zeros([len(rates), coupons.shape[0]])\n",
    "for n, r in enumerate(rates):\n",
    "    dist = np.zeros([alphas.shape[0], coupons.shape[0]])\n",
    "    for j, c in enumerate(tqdm(coupons)):\n",
    "        for i, a in enumerate(alphas):\n",
    "            p = note.price_brcn(a, r*a, c, dates)\n",
    "            dist[i, j] = (1 - p)**2\n",
    "    min_alpha_ind = np.argmin(dist, axis=0)\n",
    "    par_alph[n, :] = alphas[min_alpha_ind]"
   ],
   "metadata": {
    "collapsed": false,
    "pycharm": {
     "name": "#%%\n"
    }
   }
  },
  {
   "cell_type": "code",
   "execution_count": 110,
   "outputs": [
    {
     "data": {
      "text/plain": "<Figure size 432x288 with 1 Axes>",
      "image/png": "[encoded data removed]"
     },
     "metadata": {
      "needs_background": "light"
     },
     "output_type": "display_data"
    }
   ],
   "source": [
    "for i, r in enumerate(rates):\n",
    "    plt.plot(coupons*100,  par_alph[i], label=r'$\\beta$={}$\\alpha$'.format(r))\n",
    "    plt.xlabel('coupon rate (%)')\n",
    "    plt.ylabel(r'Par $\\alpha$')\n",
    "\n",
    "plt.legend()\n",
    "plt.show()"
   ],
   "metadata": {
    "collapsed": false,
    "pycharm": {
     "name": "#%%\n"
    }
   }
  }
 ],
 "metadata": {
  "kernelspec": {
   "name": "python3",
   "language": "python",
   "display_name": "Python 3"
  },
  "language_info": {
   "codemirror_mode": {
    "name": "ipython",
    "version": 2
   },
   "file_extension": ".py",
   "mimetype": "text/x-python",
   "name": "python",
   "nbconvert_exporter": "python",
   "pygments_lexer": "ipython2",
   "version": "3.8.5"
  }
 },
 "nbformat": 4,
 "nbformat_minor": 0
}