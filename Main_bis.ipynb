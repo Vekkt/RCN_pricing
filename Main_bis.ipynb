{
 "cells": [
  {
   "cell_type": "code",
   "execution_count": 1,
   "metadata": {
    "collapsed": true
   },
   "outputs": [],
   "source": [
    "import numpy as np\n",
    "from binomial import Binomial\n",
    "from calibration import calibration\n",
    "from rcn import rcn\n",
    "import statsmodels.formula.api as smf\n",
    "from scipy.optimize import minimize\n",
    "import matplotlib.pyplot as plt\n",
    "from tqdm import tqdm"
   ]
  },
  {
   "cell_type": "code",
   "execution_count": 2,
   "outputs": [
    {
     "name": "stdout",
     "output_type": "stream",
     "text": [
      "Interest rate  -0.0078\n",
      "Dividend yield 0.0023\n",
      "------------------------------\n",
      "Minimum found!\n",
      "Func value     0.2349\n",
      "Up             1.0550\n",
      "Down           0.9437\n",
      "------------------------------\n"
     ]
    }
   ],
   "source": [
    "\"\"\"Run callibration file and return the interest rate, div yield, u and d\"\"\"\n",
    "r, y, u, d = calibration()"
   ],
   "metadata": {
    "collapsed": false,
    "pycharm": {
     "name": "#%%\n"
    }
   }
  },
  {
   "source": [
    "## Question 1"
   ],
   "cell_type": "markdown",
   "metadata": {}
  },
  {
   "cell_type": "code",
   "execution_count": 3,
   "outputs": [],
   "source": [
    "T = 12\n",
    "dt = 1/T\n",
    "i0 = 11118\n",
    "c = 0.1\n",
    "alpha = 1\n",
    "beta = 0.8"
   ],
   "metadata": {
    "collapsed": false,
    "pycharm": {
     "name": "#%%%\n"
    }
   }
  },
  {
   "cell_type": "code",
   "execution_count": 4,
   "outputs": [
    {
     "name": "stdout",
     "output_type": "stream",
     "text": [
      " rcn       : 1.0117\n",
      "brcn       : 1.0443\n",
      "bond       : 1.1083\n",
      "\n",
      " rcn       : 1.0117\n",
      "brcn       : 1.0443\n",
      "bond       : 1.1083\n"
     ]
    }
   ],
   "source": [
    "tree = Binomial(r, T, dt, i0, u, d, y)\n",
    "\n",
    "print('{:10} : {:.4f}'.format(' rcn', tree.price_RCN(alpha, c)))\n",
    "print('{:10} : {:.4f}'.format('brcn', tree.price_RCN(alpha, c, beta)))\n",
    "print('{:10} : {:.4f}'.format('bond', tree.price_bond(c*dt)))\n",
    "\n",
    "print()\n",
    "note = rcn(r, dt, i0, y, u, d, c, T)\n",
    "print('{:10} : {:.4f}'.format(' rcn', note.price_rcn(alpha=alpha, c=c)))\n",
    "print('{:10} : {:.4f}'.format('brcn', note.price_brcn(alpha=alpha, beta=beta, c=c)))\n",
    "print('{:10} : {:.4f}'.format('bond', note.bond))\n"
   ],
   "metadata": {
    "collapsed": false,
    "pycharm": {
     "name": "#%%\n"
    },
    "tags": []
   }
  },
  {
   "source": [
    "## Question 2"
   ],
   "cell_type": "markdown",
   "metadata": {}
  },
  {
   "cell_type": "code",
   "execution_count": 5,
   "outputs": [
    {
     "name": "stdout",
     "output_type": "stream",
     "text": [
      "alpha = 1, beta = 0.8\n",
      "Par coupon for RCN:  c = 8.83%\n",
      "Par coupon for BRCN: c = 5.58%\n"
     ]
    }
   ],
   "source": [
    "par_price = 1\n",
    "\n",
    "def f(c, *args):\n",
    "    alpha, beta, type = args\n",
    "    if type == 'RCN': p = tree.price_RCN(alpha, c)\n",
    "    if type == 'BRCN': p = tree.price_RCN(alpha, c, beta)\n",
    "    return (par_price - p) ** 2\n",
    "\n",
    "res_RCN = minimize(f, 0, args=(alpha, beta, 'RCN'))\n",
    "res_BRCN = minimize(f, 0, args=(alpha, beta, 'BRCN'))\n",
    "print('alpha = {}, beta = {}'.format(alpha, beta))\n",
    "if res_RCN.success: print('Par coupon for RCN:  c = {:.2%}'.format(res_RCN.x[0]))\n",
    "if res_BRCN.success: print('Par coupon for BRCN: c = {:.2%}'.format(res_BRCN.x[0]))"
   ],
   "metadata": {
    "collapsed": false,
    "pycharm": {
     "name": "#%%\n"
    }
   }
  },
  {
   "cell_type": "code",
   "execution_count": 6,
   "outputs": [
    {
     "name": "stderr",
     "output_type": "stream",
     "text": [
      "100%|██████████| 10/10 [00:08<00:00,  1.19it/s]\n"
     ]
    }
   ],
   "source": [
    "res_RCN = minimize(f, 0, args=(alpha, beta, 'RCN'))\n",
    "rates = [0.4,0.6,0.8,1]\n",
    "alphas = np.linspace(0.6, 1, 10)\n",
    "betas = np.outer(alphas, rates)\n",
    "\n",
    "cons = ({'type': 'ineq', 'fun': lambda x: 1 - x},\n",
    "        {'type': 'ineq', 'fun': lambda x: x - 0})\n",
    "\n",
    "rcn_c = []\n",
    "brcn_c = np.zeros_like(betas)\n",
    "\n",
    "for i, b in enumerate(tqdm(betas)):\n",
    "    alpha = alphas[i]\n",
    "    res_RCN = minimize(f, 0, args=(alpha, beta, 'RCN'), constraints=cons)\n",
    "    rcn_c.append(res_RCN.x[0]*100)\n",
    "    for j, beta in enumerate(b):\n",
    "        res_BRCN = minimize(f, 0, args=(alpha, beta, 'BRCN'), constraints=cons)\n",
    "        brcn_c[i,j] = res_BRCN.x[0]*100"
   ],
   "metadata": {
    "collapsed": false,
    "pycharm": {
     "name": "#%%\n"
    }
   }
  },
  {
   "cell_type": "code",
   "execution_count": 7,
   "metadata": {},
   "outputs": [
    {
     "data": {
      "text/plain": "<Figure size 432x288 with 1 Axes>",
      "image/png": "[encoded data removed]"
     },
     "metadata": {
      "needs_background": "light"
     },
     "output_type": "display_data"
    }
   ],
   "source": [
    "plt.plot(alphas, rcn_c)\n",
    "for c in brcn_c.T:\n",
    "    plt.plot(alphas, c)\n",
    "plt.xlabel(r'$\\alpha$')\n",
    "plt.ylabel('Par Coupon Rate (%)')\n",
    "plt.legend(['RCN'] + [r'beta = {}$\\alpha$'.format(r) for r in rates])\n",
    "plt.title(r'Par-coupon rate as a function of $\\alpha$')\n",
    "plt.show()"
   ]
  },
  {
   "cell_type": "code",
   "execution_count": 14,
   "metadata": {},
   "outputs": [
    {
     "data": {
      "text/plain": "<Figure size 432x288 with 1 Axes>",
      "image/png": "[encoded data removed]"
     },
     "metadata": {
      "needs_background": "light"
     },
     "output_type": "display_data"
    }
   ],
   "source": [
    "coupons = np.linspace(0, 0.09, 10)\n",
    "par_price = 1\n",
    "\n",
    "\n",
    "cons = ({'type': 'ineq', 'fun': lambda x: 1 - x},\n",
    "        {'type': 'ineq', 'fun': lambda x: x - 0})\n",
    "\n",
    "def g(alpha, *args):\n",
    "    c, = args\n",
    "    return (par_price - tree.price_RCN(alpha, c)) ** 2\n",
    "\n",
    "alphas = []\n",
    "for c in coupons:\n",
    "    res = minimize(g, 1, args=(c), constraints=cons)\n",
    "    alphas.append(res.x[0])\n",
    "\n",
    "plt.plot(coupons*100, alphas)\n",
    "plt.xlabel('Coupon Rate (%)')\n",
    "plt.ylabel(r'Par-$\\alpha$')\n",
    "plt.title(r'Par-$\\alpha$ as a function of coupon rate for basic RCN')\n",
    "plt.show(tree.price_RCN(alpha, c))"
   ]
  },
  {
   "cell_type": "code",
   "execution_count": 9,
   "outputs": [
    {
     "name": "stderr",
     "output_type": "stream",
     "text": [
      "100%|██████████| 10/10 [00:05<00:00,  1.97it/s]\n",
      "100%|██████████| 10/10 [00:05<00:00,  1.96it/s]\n",
      "100%|██████████| 10/10 [00:09<00:00,  1.08it/s]\n",
      "100%|██████████| 10/10 [00:22<00:00,  2.24s/it]\n"
     ]
    }
   ],
   "source": [
    "par_price = 1\n",
    "\n",
    "def h(alpha, *args):\n",
    "    c, rate = args\n",
    "    return (par_price - tree.price_RCN(alpha, c, rate*alpha)) ** 2\n",
    "\n",
    "alphas = np.linspace(0.6, 1, 20)\n",
    "coupons = np.linspace(0, 0.09, 10)\n",
    "rates = [0.4, 0.6, 0.8, 1]\n",
    "\n",
    "par_alph = np.zeros([len(rates), coupons.shape[0]])\n",
    "for n, r in enumerate(rates):\n",
    "    dist = np.zeros([alphas.shape[0], coupons.shape[0]])\n",
    "    for j, c in enumerate(tqdm(coupons)):\n",
    "        for i, a in enumerate(alphas):\n",
    "            dist[i, j] = h(a, c, r)\n",
    "    min_alpha_ind = np.argmin(dist, axis=0)\n",
    "    par_alph[n, :] = alphas[min_alpha_ind]"
   ],
   "metadata": {
    "collapsed": false,
    "pycharm": {
     "name": "#%%\n"
    }
   }
  },
  {
   "cell_type": "code",
   "execution_count": 10,
   "outputs": [
    {
     "data": {
      "text/plain": "<Figure size 432x288 with 1 Axes>",
      "image/png": "[encoded data removed]"
     },
     "metadata": {
      "needs_background": "light"
     },
     "output_type": "display_data"
    }
   ],
   "source": [
    "cols = ['orange', 'green', 'red', 'purple']\n",
    "for i, r in enumerate(rates):\n",
    "    plt.plot(coupons*100,  par_alph[i], label=r'$\\beta$={}$\\alpha$'.format(r), color=cols[i])\n",
    "    plt.xlabel('Coupon Rate (%)')\n",
    "    plt.ylabel(r'Par $\\alpha$')\n",
    "\n",
    "plt.title(r'Par-$\\alpha$ as a function of coupon rate for barrier RCN')\n",
    "plt.legend()\n",
    "plt.show()\n"
   ],
   "metadata": {
    "collapsed": false,
    "pycharm": {
     "name": "#%%\n"
    }
   }
  },
  {
   "cell_type": "markdown",
   "source": [
    "#Q6-7-8"
   ],
   "metadata": {
    "collapsed": false,
    "pycharm": {
     "name": "#%% md\n"
    }
   }
  },
  {
   "cell_type": "code",
   "execution_count": 11,
   "outputs": [
    {
     "name": "stdout",
     "output_type": "stream",
     "text": [
      "Price of callable simple RCN 0.9920\n",
      "Price of callable barrier RCN 0.9995\n"
     ]
    }
   ],
   "source": [
    "dates = [i for i in range(int(T/dt)+1)]\n",
    "alpha = 1\n",
    "c = 0.1\n",
    "beta = 0.8\n",
    "dates = [j for j in range(1, T)]\n",
    "RCN = note.price_rcn(alpha=alpha, c=c, dates=dates)\n",
    "BRCN = note.price_brcn(alpha=alpha, c=c, beta=0.8, dates=dates)\n",
    "print('Price of callable simple RCN {:.4f}\\nPrice of callable barrier RCN {:.4f}'.format(RCN, BRCN))"
   ],
   "metadata": {
    "collapsed": false,
    "pycharm": {
     "name": "#%%\n"
    }
   }
  },
  {
   "cell_type": "code",
   "execution_count": 12,
   "outputs": [
    {
     "name": "stderr",
     "output_type": "stream",
     "text": [
      "100%|██████████| 10/10 [00:13<00:00,  1.38s/it]\n"
     ]
    }
   ],
   "source": [
    "par_price = 1\n",
    "\n",
    "def f(c, *args):\n",
    "    alpha, beta, type, dates = args\n",
    "    if type == 'RCN': p = note.price_rcn(alpha, c, dates)\n",
    "    if type == 'BRCN': p = note.price_brcn(alpha, beta, c, dates)\n",
    "    return (par_price - p) ** 2\n",
    "\n",
    "cons = ({'type': 'ineq', 'fun': lambda x: 1 - x},\n",
    "        {'type': 'ineq', 'fun': lambda x: x })\n",
    "\n",
    "\n",
    "rates = [0.4,0.6,0.8,1]\n",
    "alphas = np.linspace(0.6, 1, 10)\n",
    "betas = np.outer(alphas, rates)\n",
    "\n",
    "rcn_c = []\n",
    "brcn_c = np.zeros_like(betas)\n",
    "\n",
    "for i, b in enumerate(tqdm(betas)):\n",
    "    alpha = alphas[i]\n",
    "    res_RCN = minimize(f, 0, args=(alpha, beta, 'RCN', dates), constraints=cons)\n",
    "    rcn_c.append(res_RCN.x[0]*100)\n",
    "    for j, beta in enumerate(b):\n",
    "        res_BRCN = minimize(f, 0, args=(alpha, beta, 'BRCN', dates), constraints=cons)\n",
    "        brcn_c[i,j] = res_BRCN.x[0]*100"
   ],
   "metadata": {
    "collapsed": false,
    "pycharm": {
     "name": "#%%\n"
    }
   }
  },
  {
   "cell_type": "code",
   "execution_count": 17,
   "outputs": [
    {
     "data": {
      "text/plain": "<Figure size 432x288 with 1 Axes>",
      "image/png": "[encoded data removed]"
     },
     "metadata": {
      "needs_background": "light"
     },
     "output_type": "display_data"
    }
   ],
   "source": [
    "plt.plot(alphas, rcn_c)\n",
    "for c in brcn_c.T:\n",
    "    plt.plot(alphas, c)\n",
    "plt.xlabel(r'$\\alpha$')\n",
    "plt.ylabel('Par Coupon rate (%)')\n",
    "plt.legend(['RCN'] + [r'beta = {}$\\alpha$'.format(r) for r in rates])\n",
    "plt.savefig('5-7.pdf')\n",
    "plt.show()"
   ],
   "metadata": {
    "collapsed": false,
    "pycharm": {
     "name": "#%%\n"
    }
   }
  },
  {
   "source": [
    "Grid Search"
   ],
   "cell_type": "markdown",
   "metadata": {
    "collapsed": false,
    "pycharm": {
     "name": "#%% md\n"
    }
   }
  },
  {
   "cell_type": "code",
   "execution_count": null,
   "outputs": [],
   "source": [
    "coupons = np.linspace(0., 0.12, 15)\n",
    "alphas = np.linspace(0.6, 1, 100)\n",
    "rates = [0.4, 0.6, 0.8, 1]\n",
    "\n",
    "par_alph = np.zeros([len(rates), coupons.shape[0]])\n",
    "for n, r in enumerate(rates):\n",
    "    dist = np.zeros([alphas.shape[0], coupons.shape[0]])\n",
    "    for j, c in enumerate(tqdm(coupons)):\n",
    "        for i, a in enumerate(alphas):\n",
    "            p = note.price_brcn(a, r*a, c, dates)\n",
    "            dist[i, j] = (1 - p)**2\n",
    "    min_alpha_ind = np.argmin(dist, axis=0)\n",
    "    par_alph[n, :] = alphas[min_alpha_ind]"
   ],
   "metadata": {
    "collapsed": false,
    "pycharm": {
     "name": "#%%\n"
    }
   }
  },
  {
   "cell_type": "code",
   "execution_count": null,
   "outputs": [],
   "source": [
    "for i, r in enumerate(reversed(rates)):\n",
    "    plt.plot(coupons*100,  par_alph[i], label=r'$\\beta$={}$\\alpha$'.format(r))\n",
    "    plt.xlabel('coupon rate (%)')\n",
    "    plt.ylabel(r'Par $\\alpha$')\n",
    "\n",
    "plt.legend()\n",
    "plt.show()"
   ],
   "metadata": {
    "collapsed": false,
    "pycharm": {
     "name": "#%%\n"
    }
   }
  },
  {
   "cell_type": "code",
   "execution_count": null,
   "metadata": {},
   "outputs": [],
   "source": []
  }
 ],
 "metadata": {
  "kernelspec": {
   "name": "python385jvsc74a57bd04fa0c1cd838605678f66dfc464cfd7df230b190a6a6ca323c874156ad42f6784",
   "display_name": "Python 3.8.5 64-bit ('base': conda)"
  },
  "language_info": {
   "codemirror_mode": {
    "name": "ipython",
    "version": 2
   },
   "file_extension": ".py",
   "mimetype": "text/x-python",
   "name": "python",
   "nbconvert_exporter": "python",
   "pygments_lexer": "ipython2",
   "version": "3.8.5"
  }
 },
 "nbformat": 4,
 "nbformat_minor": 0
}